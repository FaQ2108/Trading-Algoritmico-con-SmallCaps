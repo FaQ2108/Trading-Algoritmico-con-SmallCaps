{
  "cells": [
    {
      "cell_type": "markdown",
      "metadata": {
        "id": "view-in-github",
        "colab_type": "text"
      },
      "source": [
        "<a href=\"https://colab.research.google.com/github/FaQ2108/Trading-Algoritmico-con-SmallCaps/blob/main/Optimizacion_Backtest.ipynb\" target=\"_parent\"><img src=\"https://colab.research.google.com/assets/colab-badge.svg\" alt=\"Open In Colab\"/></a>"
      ]
    },
    {
      "cell_type": "markdown",
      "source": [
        "# Optimizacion de Parametros:"
      ],
      "metadata": {
        "id": "DVUYipMugWqC"
      }
    },
    {
      "cell_type": "markdown",
      "source": [
        "## Preparacion de la Base de Datos y Entorno para Backtesting:\n",
        "\n",
        "Se importan las librerías necesarias: pandas para manipulación de datos, numpy para cálculos numéricos, sqlite3 para interactuar con la base de datos, google.colab.drive para acceder a los archivos en Google Drive y itertools.product para generar combinaciones de parámetros.\n",
        "\n",
        "Son definidas las siguientes constantes de cadena: DATABASE_PATH, que almacena la ruta al archivo de la base de datos SQLite; ALERT_TABLE que guarda el nombre de la tabla con la información de las alertas dentro de la base de datos. También se comenta una ruta alternativa a una base de datos similar."
      ],
      "metadata": {
        "id": "Ny1a1xZbcDDf"
      }
    },
    {
      "cell_type": "code",
      "execution_count": null,
      "metadata": {
        "id": "d7KkjR38rkAc"
      },
      "outputs": [],
      "source": [
        "import pandas as pd\n",
        "import numpy as np\n",
        "import sqlite3\n",
        "from google.colab import drive\n",
        "from itertools import product\n",
        "\n",
        "# Constantes\n",
        "DATABASE_PATH = '/content/drive/MyDrive/Proyecto_SmallCaps/BBDD/bbdd_historico_pruebas/trendvision_alerts_historico.db'\n",
        "#DATABASE_PATH = '/content/drive/MyDrive/Proyecto_SmallCaps/BBDD/bbdd historico actualizado/trendvision_alerts_historico.db'\n",
        "ALERT_TABLE = \"alerts\""
      ]
    },
    {
      "cell_type": "markdown",
      "source": [
        "## Rangos de Parametros de Optimizacion:\n",
        "\n",
        "Se definen las variables que contienen los rangos de valores que se usarán para optimizar los parámetros de una estrategia de trading. Estos rangos son creados usando la función arange de la librería numpy.\n",
        "\n",
        "Detalle:\n",
        "\n",
        "Definición de Rangos de Optimización:\n",
        "\n",
        "* RV_RANGE = np.arange(2, 4, 0.5): Se define una variable llamada RV_RANGE y se le asigna un array de numpy creado con np.arange().\n",
        "\n",
        "np.arange(2, 4, 0.5) genera una secuencia de números que comienza en 2 (incluido), termina en 4 (excluido), y avanza con un paso de 0.5.\n",
        "El resultado es un array con los valores [2.0, 2.5, 3.0, 3.5].\n",
        "RV_RANGE representaría un rango de prueba para el parámetro 'rv' de una estrategia de trading.\n",
        "* ONE_V_RANGE = np.arange(5000, 45000, 10000): Se define una variable llamada ONE_V_RANGE y se le asigna un array de numpy creado con np.arange().\n",
        "\n",
        "np.arange(5000, 45000, 10000) genera una secuencia de números que comienza en 5000, termina en 45000 (excluido) y avanza con un paso de 10000.\n",
        "El resultado es un array con los valores [5000, 15000, 25000, 35000].\n",
        "ONE_V_RANGE representaría un rango de prueba para el parámetro 'one_v' de una estrategia de trading.\n",
        "* CHANGE_RANGE = np.arange(0, 10, 2): Se define una variable llamada CHANGE_RANGE y se le asigna un array de numpy creado con np.arange().\n",
        "\n",
        "np.arange(0, 10, 2) genera una secuencia de números que comienza en 0, termina en 10 (excluido) y avanza con un paso de 2.\n",
        "El resultado es un array con los valores [0, 2, 4, 6, 8].\n",
        "CHANGE_RANGE representaría un rango de prueba para el parámetro 'change' de una estrategia de trading.\n",
        "* PRICE_RANGE = np.arange(5, 50, 5): Se define una variable llamada PRICE_RANGE y se le asigna un array de numpy creado con np.arange().\n",
        "\n",
        "np.arange(5, 50, 5) genera una secuencia de números que comienza en 5, termina en 50 (excluido) y avanza con un paso de 5.\n",
        "El resultado es un array con los valores [5, 10, 15, 20, 25, 30, 35, 40, 45].\n",
        "PRICE_RANGE representaría un rango de prueba para el parámetro 'price' de una estrategia de trading.\n",
        "* FT_RANGE = np.arange(0.5, 5.5, 1): Se define una variable llamada FT_RANGE y se le asigna un array de numpy creado con np.arange().\n",
        "\n",
        "np.arange(0.5, 5.5, 1) genera una secuencia de números que comienza en 0.5, termina en 5.5 (excluido) y avanza con un paso de 1.\n",
        "El resultado es un array con los valores [0.5, 1.5, 2.5, 3.5, 4.5].\n",
        "FT_RANGE representaría un rango de prueba para el parámetro 'ft' de una estrategia de trading."
      ],
      "metadata": {
        "id": "0j1IyZ_Td7by"
      }
    },
    {
      "cell_type": "code",
      "execution_count": null,
      "metadata": {
        "id": "WAvkd6JjsEEI"
      },
      "outputs": [],
      "source": [
        "# RANGOS DE OPTIMIZACION\n",
        "RV_RANGE = np.arange(2, 4, 0.5)\n",
        "ONE_V_RANGE = np.arange(5000, 45000, 10000)\n",
        "CHANGE_RANGE = np.arange(0, 10, 2)\n",
        "PRICE_RANGE = np.arange(5, 50, 5)\n",
        "FT_RANGE = np.arange(0.5, 5.5, 1)\n",
        "\n",
        "def connect_to_database(file_path):\n",
        "    \"\"\"Establece una conexión a la base de datos SQLite.\"\"\"\n",
        "    try:\n",
        "        drive.mount('/content/drive')\n",
        "        conexion = sqlite3.connect(file_path)\n",
        "        return conexion\n",
        "    except sqlite3.Error as e:\n",
        "        print(f\"Error al conectar a la base de datos: {e}\")\n",
        "        return None"
      ]
    },
    {
      "cell_type": "code",
      "execution_count": null,
      "metadata": {
        "id": "Q4bOwAyksFpk"
      },
      "outputs": [],
      "source": [
        "def load_alerts_from_db(conexion, table_name):\n",
        "    \"\"\"Carga las alertas desde la tabla especificada de la base de datos.\"\"\"\n",
        "    alerts_query = f\"SELECT * FROM {table_name}\"\n",
        "    alerts = pd.read_sql_query(alerts_query, conexion)\n",
        "    return alerts"
      ]
    },
    {
      "cell_type": "code",
      "execution_count": null,
      "metadata": {
        "id": "g-Hv0fo4sMPg"
      },
      "outputs": [],
      "source": [
        "def filter_alerts(alerts_df):\n",
        "    \"\"\"Filtra las alertas según las condiciones.\"\"\"\n",
        "    filtered_alerts = alerts_df[\n",
        "        (alerts_df['ohlc_downloaded'] == True) &\n",
        "        (alerts_df['ranking'] == '#1') &\n",
        "        (alerts_df['rv'] > 1) &\n",
        "        (alerts_df['one_v'] > 1000) &\n",
        "        (pd.to_datetime(alerts_df['date'], format=\"%Y-%m-%d %H:%M:%S\").dt.time >= pd.to_datetime(\"15:30:00\").time()) &\n",
        "        (pd.to_datetime(alerts_df['date'], format=\"%Y-%m-%d %H:%M:%S\").dt.time <= pd.to_datetime(\"22:00:00\").time()) &\n",
        "        (alerts_df['change'] > 0) &\n",
        "        (alerts_df['price'] >= 0) & (alerts_df['price'] <= 20) &\n",
        "        (alerts_df['ft'] > 1) &\n",
        "        (alerts_df['mc'] < 100000000000000) &\n",
        "        (alerts_df['rv'] < 20) &\n",
        "        (alerts_df['mv'] > 10)\n",
        "    ].copy()\n",
        "\n",
        "    print(f\"Total de alertas válidas: {len(filtered_alerts)}\")\n",
        "    return filtered_alerts"
      ]
    },
    {
      "cell_type": "code",
      "execution_count": null,
      "metadata": {
        "id": "UgZhJF2vsSMA"
      },
      "outputs": [],
      "source": [
        "def generate_param_combinations(rv_range, one_v_range, change_range, price_range, ft_range):\n",
        "    \"\"\"Genera todas las combinaciones posibles de parámetros para la optimización.\"\"\"\n",
        "    param_combinations = pd.DataFrame(list(product(rv_range, one_v_range, change_range, price_range, ft_range)),\n",
        "                                       columns=['rv_threshold', 'one_v_threshold', 'change_threshold',\n",
        "                                                'price_threshold', 'ft_threshold'])\n",
        "    return param_combinations"
      ]
    },
    {
      "cell_type": "code",
      "execution_count": null,
      "metadata": {
        "id": "_-udiTtEsYqo"
      },
      "outputs": [],
      "source": [
        "def fetch_ohlc_data(conexion, ticker, alert_date):\n",
        "    \"\"\"Obtiene los datos OHLC para un ticker y fecha específicos.\"\"\"\n",
        "    ohlc_query = f\"\"\"\n",
        "        SELECT * FROM ohlc\n",
        "        WHERE ticker = '{ticker}'\n",
        "          AND DATE(date) = DATE('{alert_date.date()}')\n",
        "          AND date >= '{alert_date}'\n",
        "    \"\"\"\n",
        "    ohlc_data = pd.read_sql_query(ohlc_query, conexion)\n",
        "    return ohlc_data"
      ]
    },
    {
      "cell_type": "code",
      "execution_count": null,
      "metadata": {
        "id": "LdRN1oZBscKe"
      },
      "outputs": [],
      "source": [
        "def calculate_exit_price(ohlc_data, entry_price):\n",
        "    \"\"\"Calcula el precio de salida según la estrategia.\"\"\"\n",
        "    # Calcular máximo desde el punto de entrada\n",
        "    ohlc_data['high_since_entry'] = ohlc_data['high'].cummax()\n",
        "\n",
        "    # Inicializar valores de Stop Loss y condiciones\n",
        "    stop_loss = entry_price * 0.91  # 9% por debajo del precio de entrada\n",
        "    stop_loss_adjusted = entry_price * 1.13  # Stop ajustado al 13% por encima si sube más de un 20%\n",
        "    take_profit = ohlc_data['high_since_entry'].max()  # El máximo del día como Take Profit\n",
        "    exit_price = None\n",
        "    exit_time = None\n",
        "\n",
        "    # Variables para detectar techo\n",
        "    peak_price = entry_price\n",
        "    consecutive_lower_highs = 2\n",
        "    ceiling_threshold = 30  # Número de velas consecutivas con máximos más bajos para considerar un techo\n",
        "\n",
        "    # Recorrer los datos para determinar salida\n",
        "    for _, row in ohlc_data.iterrows():\n",
        "        # Ajustar Stop Loss si el precio sube un 20% o más\n",
        "        if row['high_since_entry'] >= entry_price * 1.13:\n",
        "            stop_loss = stop_loss_adjusted\n",
        "\n",
        "        # Verificar si se activa el Stop Loss\n",
        "        if row['low'] <= stop_loss:\n",
        "            exit_price = stop_loss\n",
        "            exit_time = row['date']\n",
        "            break\n",
        "\n",
        "        # Verificar si se alcanza el Take Profit\n",
        "        if row['high'] >= take_profit:\n",
        "            exit_price = take_profit\n",
        "            exit_time = row['date']\n",
        "            break\n",
        "\n",
        "        # Detectar techo\n",
        "        if row['high'] > peak_price:\n",
        "            peak_price = row['high']\n",
        "            consecutive_lower_highs = 0\n",
        "        elif row['high'] < peak_price:\n",
        "            consecutive_lower_highs += 1\n",
        "        else:\n",
        "            consecutive_lower_highs = 0\n",
        "\n",
        "        # Salir si se detecta un techo\n",
        "        if consecutive_lower_highs >= ceiling_threshold:\n",
        "            exit_price = row['close']\n",
        "            exit_time = row['date']\n",
        "            break\n",
        "\n",
        "    # Si no se alcanzó ni el Stop Loss, ni el Take Profit, ni se detectó un techo, tomar el máximo del día como Take Profit\n",
        "    if exit_price is None:\n",
        "        exit_price = take_profit\n",
        "        exit_time = ohlc_data.loc[ohlc_data['high_since_entry'].idxmax(), 'date']\n",
        "\n",
        "    return exit_price, exit_time"
      ]
    },
    {
      "cell_type": "code",
      "execution_count": null,
      "metadata": {
        "id": "c7FaF_FysrV1"
      },
      "outputs": [],
      "source": [
        "def run_backtest(filtered_alerts, conexion, rv_threshold, one_v_threshold,\n",
        "                 change_threshold, price_threshold, ft_threshold):\n",
        "    \"\"\"Ejecuta el backtest de la estrategia de trading.\"\"\"\n",
        "    results = []\n",
        "    for _, alert in filtered_alerts.iterrows():\n",
        "        ticker = alert['ticker']\n",
        "        alert_date = pd.to_datetime(alert['date'])\n",
        "        entry_price = alert['price']\n",
        "\n",
        "        # Obtener datos OHLC\n",
        "        ohlc_data = fetch_ohlc_data(conexion, ticker, alert_date)\n",
        "        if ohlc_data.empty:\n",
        "            continue\n",
        "\n",
        "        # Calcular precio y tiempo de salida\n",
        "        exit_price, exit_time = calculate_exit_price(ohlc_data, entry_price)\n",
        "\n",
        "        # Calcular rendimiento\n",
        "        pnl_percent = ((exit_price - entry_price) / entry_price) * 100\n",
        "\n",
        "        # Guardar resultado\n",
        "        results.append(pnl_percent)\n",
        "\n",
        "    return results"
      ]
    },
    {
      "cell_type": "code",
      "execution_count": null,
      "metadata": {
        "id": "trZQOVFNs2co"
      },
      "outputs": [],
      "source": [
        "def optimize_parameters(filtered_alerts, conexion, param_combinations):\n",
        "    \"\"\"Optimiza los parámetros de la estrategia.\"\"\"\n",
        "    optimization_results = []\n",
        "    for _, params in param_combinations.iterrows():\n",
        "        rv_threshold = params['rv_threshold']\n",
        "        one_v_threshold = params['one_v_threshold']\n",
        "        change_threshold = params['change_threshold']\n",
        "        price_threshold = params['price_threshold']\n",
        "        ft_threshold = params['ft_threshold']\n",
        "\n",
        "        results = run_backtest(filtered_alerts, conexion, rv_threshold, one_v_threshold,\n",
        "                              change_threshold, price_threshold, ft_threshold)\n",
        "        avg_pnl = np.mean(results) if results else 0\n",
        "        optimization_results.append({\n",
        "            'rv_threshold': rv_threshold,\n",
        "            'one_v_threshold': one_v_threshold,\n",
        "            'change_threshold': change_threshold,\n",
        "            'price_threshold': price_threshold,\n",
        "            'ft_threshold': ft_threshold,\n",
        "            'average_pnl': avg_pnl\n",
        "        })\n",
        "\n",
        "    return pd.DataFrame(optimization_results)"
      ]
    },
    {
      "cell_type": "code",
      "execution_count": null,
      "metadata": {
        "colab": {
          "background_save": true,
          "base_uri": "https://localhost:8080/"
        },
        "id": "K8SDc07ds51l",
        "outputId": "99134286-2822-4fbb-9ea0-f408a7154103"
      },
      "outputs": [
        {
          "name": "stdout",
          "output_type": "stream",
          "text": [
            "Mounted at /content/drive\n",
            "Total de alertas válidas: 60\n",
            "      rv_threshold  one_v_threshold  change_threshold  price_threshold  \\\n",
            "0              2.0           5000.0               0.0              5.0   \n",
            "1              2.0           5000.0               0.0              5.0   \n",
            "2              2.0           5000.0               0.0              5.0   \n",
            "3              2.0           5000.0               0.0              5.0   \n",
            "4              2.0           5000.0               0.0              5.0   \n",
            "...            ...              ...               ...              ...   \n",
            "3595           3.5          35000.0               8.0             45.0   \n",
            "3596           3.5          35000.0               8.0             45.0   \n",
            "3597           3.5          35000.0               8.0             45.0   \n",
            "3598           3.5          35000.0               8.0             45.0   \n",
            "3599           3.5          35000.0               8.0             45.0   \n",
            "\n",
            "      ft_threshold  average_pnl  \n",
            "0              0.5     4.388345  \n",
            "1              1.5     4.388345  \n",
            "2              2.5     4.388345  \n",
            "3              3.5     4.388345  \n",
            "4              4.5     4.388345  \n",
            "...            ...          ...  \n",
            "3595           0.5     4.388345  \n",
            "3596           1.5     4.388345  \n",
            "3597           2.5     4.388345  \n",
            "3598           3.5     4.388345  \n",
            "3599           4.5     4.388345  \n",
            "\n",
            "[3600 rows x 6 columns]\n"
          ]
        }
      ],
      "source": [
        "def main():\n",
        "    \"\"\"Función principal para ejecutar el script de optimización.\"\"\"\n",
        "    conexion = connect_to_database(DATABASE_PATH)\n",
        "    if conexion:\n",
        "        alerts_df = load_alerts_from_db(conexion, ALERT_TABLE)\n",
        "        filtered_alerts = filter_alerts(alerts_df)\n",
        "        param_combinations = generate_param_combinations(RV_RANGE, ONE_V_RANGE, CHANGE_RANGE,\n",
        "                                                        PRICE_RANGE, FT_RANGE)\n",
        "\n",
        "        optimization_results_df = optimize_parameters(filtered_alerts, conexion, param_combinations)\n",
        "        print(optimization_results_df)\n",
        "\n",
        "        conexion.close()\n",
        "\n",
        "\n",
        "if __name__ == \"__main__\":\n",
        "    main()"
      ]
    }
  ],
  "metadata": {
    "colab": {
      "provenance": [],
      "include_colab_link": true
    },
    "kernelspec": {
      "display_name": "Python 3",
      "name": "python3"
    },
    "language_info": {
      "name": "python"
    }
  },
  "nbformat": 4,
  "nbformat_minor": 0
}