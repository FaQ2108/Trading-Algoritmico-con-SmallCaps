{
  "cells": [
    {
      "cell_type": "markdown",
      "metadata": {
        "id": "view-in-github",
        "colab_type": "text"
      },
      "source": [
        "<a href=\"https://colab.research.google.com/github/FaQ2108/Trading-Algoritmico-con-SmallCaps/blob/main/Estrategia1_(ideal_y_optimizada).ipynb\" target=\"_parent\"><img src=\"https://colab.research.google.com/assets/colab-badge.svg\" alt=\"Open In Colab\"/></a>"
      ]
    },
    {
      "cell_type": "markdown",
      "metadata": {
        "id": "a1tCG49g7GFj"
      },
      "source": [
        "# Backtest vectorizado y optimización de parametros con Pandas."
      ]
    },
    {
      "cell_type": "markdown",
      "metadata": {
        "id": "qbSHPsMR7GFl"
      },
      "source": [
        "---"
      ]
    },
    {
      "cell_type": "markdown",
      "metadata": {
        "id": "m5dbCj4I7GFm"
      },
      "source": [
        "Este notebook está diseñado para adaptar y mejorar el contenido del \"Webinar 2 - Backtest con Pandas v 2.ipynb\", utilizando datos obtenidos de una base de datos SQLite. La finalidad es realizar pruebas de retroceso (backtesting) sobre los datos históricos de precios de acciones de baja capitalización (small caps) almacenados en dicha base de datos, implementando técnicas de análisis técnico y estrategias de trading."
      ]
    },
    {
      "cell_type": "markdown",
      "metadata": {
        "id": "L8i3XjHY7GFm"
      },
      "source": [
        "---"
      ]
    },
    {
      "cell_type": "markdown",
      "source": [
        "## **Objetivos del Notebook:**\n",
        "\n",
        "* **Conexión y Extracción de Datos:**\n",
        "\n",
        "Conectar a la base de datos SQLite y extraer los datos históricos necesarios para el análisis.\n",
        "\n",
        "* **Cálculo de Indicadores Técnicos:**\n",
        "\n",
        "Calcular indicadores técnicos esenciales, como medias móviles, utilizando las bibliotecas pandas y numpy.\n",
        "\n",
        "* **Generación de Señales de Trading:**\n",
        "\n",
        "Generar señales de compra y venta basadas en los indicadores calculados para evaluar la estrategia de trading.\n",
        "\n",
        "* **Evaluación de la Estrategia:**\n",
        "\n",
        "Realizar el backtest utilizando los datos extraídos y analizar el rendimiento de la estrategia de trading.\n",
        "\n",
        "* **Visualización de Resultados:**\n",
        "\n",
        "Visualizar los resultados del backtest comparando el rendimiento de la estrategia con el rendimiento del mercado.\n",
        "\n",
        "## **Metodología**\n",
        "* **Conexión y Extracción de Datos:**\n",
        "\n",
        "Utilizar la biblioteca sqlite3 para establecer una conexión con la base de datos SQLite y extraer los datos necesarios.\n",
        "\n",
        "Convertir los datos extraídos en un DataFrame de Pandas para facilitar su manipulación y análisis.\n",
        "\n",
        "* **Cálculo de Indicadores Técnicos:**\n",
        "\n",
        "Implementar el cálculo de medias móviles simples (SMA) de diferentes periodos para identificar tendencias en los datos de precios.\n",
        "\n",
        "* **Generación de Señales de Trading:**\n",
        "\n",
        "Crear una columna de señales que indique cuándo comprar o vender basándose en los cruces de las medias móviles calculadas.\n",
        "\n",
        "* **Evaluación de la Estrategia:**\n",
        "\n",
        "Evaluar el rendimiento de la estrategia de trading calculando los rendimientos diarios y acumulativos, y compararlos con el rendimiento del mercado.\n",
        "\n",
        "* **Visualización de Resultados:**\n",
        "\n",
        "Utilizar matplotlib para crear gráficos que muestren el rendimiento acumulativo de la estrategia frente al rendimiento del mercado, facilitando la interpretación de los resultados."
      ],
      "metadata": {
        "id": "EwKvqHkL30h9"
      }
    },
    {
      "cell_type": "code",
      "source": [
        "#SELECTOR DE OPTIMIZACION\n",
        "optimizacion=False"
      ],
      "metadata": {
        "id": "_NWlkXga3tUF"
      },
      "execution_count": null,
      "outputs": []
    },
    {
      "cell_type": "markdown",
      "metadata": {
        "id": "R2fTm-lR7GFn"
      },
      "source": [
        "# IMPORTACIÓN DE MODULOS Y CARGA DE DATOS\n"
      ]
    },
    {
      "cell_type": "code",
      "execution_count": null,
      "metadata": {
        "id": "rV6zckvy7GFn"
      },
      "outputs": [],
      "source": [
        "import pandas as pd\n",
        "import numpy as np\n",
        "import itertools\n",
        "import seaborn as sns\n",
        "import os\n",
        "%matplotlib inline\n",
        "import matplotlib.pyplot as plt\n",
        "plt.rcParams['figure.figsize'] = 18, 8\n",
        "plt.style.use('ggplot')\n",
        "\n",
        "from IPython.display import display, Markdown"
      ]
    },
    {
      "cell_type": "markdown",
      "metadata": {
        "id": "cKvyH_3X7GFn"
      },
      "source": [
        "La carga de datos en este caso debe realizarse a partir de la base de datos SQLite del proyecto."
      ]
    },
    {
      "cell_type": "markdown",
      "source": [
        "Conectar a la Base de Datos SQLite."
      ],
      "metadata": {
        "id": "0SZBPRPExU3m"
      }
    },
    {
      "cell_type": "code",
      "execution_count": null,
      "metadata": {
        "id": "-3RiVMkJ7GFo",
        "colab": {
          "base_uri": "https://localhost:8080/"
        },
        "outputId": "6753d871-790e-4976-f435-01447ff26f20"
      },
      "outputs": [
        {
          "output_type": "stream",
          "name": "stdout",
          "text": [
            "Drive already mounted at /content/drive; to attempt to forcibly remount, call drive.mount(\"/content/drive\", force_remount=True).\n"
          ]
        }
      ],
      "source": [
        "import sqlite3\n",
        "\n",
        "# Conexión al drive, donde esta la base de datos\n",
        "from google.colab import drive\n",
        "drive.mount('/content/drive')\n",
        "\n",
        "# Ruta al archivo en Google Drive\n",
        "file_path = '/content/drive/MyDrive/Proyecto_SmallCaps/BBDD/bbdd historico actualizado/trendvision_alerts_historico.db'\n",
        "# Ruta al archivo en Google Drive\n",
        "#file_path = '/content/drive/MyDrive/Proyecto_SmallCaps/BBDD/bbdd_historico_pruebas/trendvision_alerts_historico.db'\n",
        "\n",
        "# Conexion a base de datos:\n",
        "conexion = sqlite3.connect(file_path)"
      ]
    },
    {
      "cell_type": "code",
      "source": [
        "# Cargar las alertas desde la tabla\n",
        "alerts_query = \"SELECT * FROM alerts\"\n",
        "alerts = pd.read_sql_query(alerts_query, conexion)\n"
      ],
      "metadata": {
        "id": "5HObrOJL7zAv"
      },
      "execution_count": null,
      "outputs": []
    },
    {
      "cell_type": "markdown",
      "source": [
        "### Filtrado de Alertas\n",
        "\n",
        "Este bloque de código filtra las alertas que cumplen con ciertas condiciones:\n",
        "\n",
        "1. **Condiciones de Filtrado:**\n",
        "   - **Ranking #1:** Se seleccionan solo las alertas con un ranking de \"#1\".\n",
        "   - **Valor de RV mayor a 5:** La alerta debe tener un valor de RV superior a 5.\n",
        "   - **Volumen de transacciones (one_v) superior a 100,000:** Solo se consideran las alertas con un volumen de transacciones mayor a 100,000.\n",
        "   - **Rango horario (15:30 - 22:00):** Las alertas solo se filtran si ocurren entre las 15:30 y las 22:00 horas del día. Para esto, se convierte el campo `date` al formato adecuado y se verifica que esté dentro del intervalo de tiempo especificado.\n",
        "\n",
        "2. **Resultado:**\n",
        "   - El filtro devuelve las alertas que cumplen todas estas condiciones y se almacena en la variable `filtered_alerts`.\n",
        "\n",
        "3. **Contabilización:**\n",
        "   - Finalmente, se imprime el número total de alertas válidas después de aplicar el filtro.\n",
        "\n",
        "Este código asegura que solo se procesen las alertas relevantes para el análisis posterior, según los criterios establecidos.\n"
      ],
      "metadata": {
        "id": "2uUbCH0n8Ptu"
      }
    },
    {
      "cell_type": "markdown",
      "source": [
        "### Alternativa 1"
      ],
      "metadata": {
        "id": "GO7S9kqkHVXe"
      }
    },
    {
      "cell_type": "code",
      "source": [
        "# Filtrar las alertas según las condiciones\n",
        "filtered_alerts = alerts[\n",
        "    (alerts['ohlc_downloaded'] == True) &\n",
        "    (alerts['ranking'] == '#1') &\n",
        "    (alerts['rv'] > 2) &\n",
        "    (alerts['one_v'] > 10000) &\n",
        "    (pd.to_datetime(alerts['date'], format=\"%Y-%m-%d %H:%M:%S\").dt.time >= pd.to_datetime(\"15:30:00\").time()) &\n",
        "    (pd.to_datetime(alerts['date'], format=\"%Y-%m-%d %H:%M:%S\").dt.time <= pd.to_datetime(\"22:00:00\").time())\n",
        "].copy()\n",
        "\n",
        "print(f\"Total de alertas válidas: {len(filtered_alerts)}\")\n"
      ],
      "metadata": {
        "id": "ioZMOgn58DAz",
        "colab": {
          "base_uri": "https://localhost:8080/"
        },
        "outputId": "3247e44e-0fde-4952-e8cc-705459b70c69"
      },
      "execution_count": null,
      "outputs": [
        {
          "output_type": "stream",
          "name": "stdout",
          "text": [
            "Total de alertas válidas: 423\n"
          ]
        }
      ]
    },
    {
      "cell_type": "markdown",
      "source": [
        "### Alternativa 2"
      ],
      "metadata": {
        "id": "-TXfT1ClHPqd"
      }
    },
    {
      "cell_type": "code",
      "source": [
        "# Filtrar las alertas según las condiciones\n",
        "filtered_alerts = alerts[\n",
        "    (alerts['ohlc_downloaded'] == True) &\n",
        "    (alerts['ranking'] == '#1') &\n",
        "    (alerts['rv'] > 2) &\n",
        "    (alerts['one_v'] > 5000) &\n",
        "    (pd.to_datetime(alerts['date'], format=\"%Y-%m-%d %H:%M:%S\").dt.time >= pd.to_datetime(\"15:30:00\").time()) &\n",
        "    (pd.to_datetime(alerts['date'], format=\"%Y-%m-%d %H:%M:%S\").dt.time <= pd.to_datetime(\"22:00:00\").time()) &\n",
        "    (alerts['change'] > 0) &\n",
        "    (alerts['price'] >= 0) &\n",
        "    (alerts['ft'] > 600000) &\n",
        "    (alerts['mc'] > 8500000) &\n",
        "    (alerts['mv'] > 150000)\n",
        "].copy()\n",
        "\n",
        "print(f\"Total de alertas válidas: {len(filtered_alerts)}\")"
      ],
      "metadata": {
        "colab": {
          "base_uri": "https://localhost:8080/"
        },
        "id": "46AiKcenwb_1",
        "outputId": "77be6244-41e4-4fe4-9725-6c23f195978a"
      },
      "execution_count": null,
      "outputs": [
        {
          "output_type": "stream",
          "name": "stdout",
          "text": [
            "Total de alertas válidas: 73\n"
          ]
        }
      ]
    },
    {
      "cell_type": "markdown",
      "source": [
        "# Estrategia de trading de rendimiento ideal\n",
        "\n",
        "El código implementa una estrategia de trading de rendimiento ideal que sigue las siguientes condiciones para cada alerta:\n",
        "\n",
        "1. **Lectura de la alerta:**\n",
        "   - Para cada alerta en `filtered_alerts`, se obtiene el **ticker**, **fecha** de la alerta y el **precio de entrada** en el momento de la alerta.\n",
        "\n",
        "2. **Obtención de datos OHLC:**\n",
        "   - Se consulta la base de datos para obtener los datos de precios del **mismo ticker** y **día** a partir de la hora de la alerta.\n",
        "\n",
        "3. **Cálculo del máximo desde la entrada:**\n",
        "   - Se calcula el **máximo histórico desde el precio de entrada** usando `.cummax()` en la columna `high` de los datos OHLC.\n",
        "\n",
        "4. **Inicialización de condiciones:**\n",
        "   - Se establece un **Stop Loss** inicial al 3% por debajo del precio de entrada (precio de entrada * 0.90).\n",
        "   - Si el precio sube un 20% o más respecto al precio de entrada, el **Stop Loss** se ajusta al 5% por encima del precio de entrada.\n",
        "   - El **Take Profit** se establece como el máximo del día, es decir, el valor más alto alcanzado en el día desde la entrada.\n",
        "\n",
        "5. **Recorrido de los datos OHLC:**\n",
        "   - El código recorre los datos OHLC y evalúa las siguientes condiciones para determinar cuándo salir de la operación:\n",
        "     - Si el precio alcanza el **Stop Loss**, se cierra la operación en ese precio.\n",
        "     - Si el precio alcanza el **Take Profit**, se cierra la operación en el máximo alcanzado.\n",
        "     - Si el precio sube más de un 20%, se ajusta el **Stop Loss** al 5% por encima del precio de entrada.\n",
        "\n",
        "6. **Cálculo del rendimiento:**\n",
        "   - El rendimiento de la operación se calcula en función de la diferencia entre el **precio de salida** y el **precio de entrada**. Este rendimiento se expresa como un porcentaje del precio de entrada.\n",
        "\n",
        "7. **Almacenamiento de resultados:**\n",
        "   - Se almacenan los resultados de cada operación (ticker, fecha de alerta, precio de entrada, precio de salida, tiempo de salida y rendimiento) en una lista `results`.\n",
        "\n",
        "8. **Conversión a DataFrame:**\n",
        "   - Los resultados se convierten a un **DataFrame de pandas** (`results_df`) para su posterior análisis.\n",
        "\n",
        "### Objetivo:\n",
        "El objetivo de esta estrategia es gestionar las operaciones basadas en precios de entrada y aplicar un **Stop Loss** si el precio baja y un **Stop Loss dinámico** que se ajusta si el precio sube significativamente, mientras que también se toma un **Take Profit** si se alcanza el máximo del día.\n"
      ],
      "metadata": {
        "id": "13_THUfJIiT8"
      }
    },
    {
      "cell_type": "code",
      "source": [
        "results = []\n",
        "\n",
        "for _, alert in filtered_alerts.iterrows():\n",
        "    ticker = alert['ticker']\n",
        "    alert_date = pd.to_datetime(alert['date'])\n",
        "    entry_price = alert['price']  # Precio en el momento de la alerta\n",
        "\n",
        "    # Filtrar datos OHLC del mismo ticker y día\n",
        "    ohlc_query = f\"\"\"\n",
        "        SELECT * FROM ohlc\n",
        "        WHERE ticker = '{ticker}'\n",
        "          AND DATE(date) = DATE('{alert_date.date()}')\n",
        "          AND date >= '{alert_date}'\n",
        "    \"\"\"\n",
        "    ohlc_data = pd.read_sql_query(ohlc_query, conexion)\n",
        "\n",
        "    if ohlc_data.empty:\n",
        "        continue\n",
        "\n",
        "    # Calcular máximo desde el punto de entrada\n",
        "    ohlc_data['high_since_entry'] = ohlc_data['high'].cummax()\n",
        "\n",
        "    # Inicializar valores de Stop Loss y condiciones\n",
        "    stop_loss = entry_price * 0.91  # 9% por debajo del precio de entrada\n",
        "    stop_loss_adjusted = entry_price * 1.1  # Stop ajustado al 13% por encima si sube más de un 20%\n",
        "    take_profit = ohlc_data['high_since_entry'].max()  # El máximo del día como Take Profit\n",
        "    exit_price = None\n",
        "    exit_time = None\n",
        "\n",
        "    # Recorrer los datos para determinar salida\n",
        "    for _, row in ohlc_data.iterrows():\n",
        "        # Ajustar Stop Loss si el precio sube un 20% o más\n",
        "        if row['high_since_entry'] >= entry_price * 1.3:\n",
        "            stop_loss = stop_loss_adjusted\n",
        "\n",
        "        # Verificar si se activa el Stop Loss\n",
        "        if row['low'] <= stop_loss:\n",
        "            exit_price = stop_loss\n",
        "            exit_time = row['date']\n",
        "            break\n",
        "\n",
        "        # Verificar si se alcanza el Take Profit\n",
        "        if row['high'] >= take_profit:\n",
        "            exit_price = take_profit\n",
        "            exit_time = row['date']\n",
        "            break\n",
        "\n",
        "    # Si no se alcanzó ni el Stop Loss ni el Take Profit, tomar el máximo del día como Take Profit\n",
        "    if exit_price is None:\n",
        "        exit_price = take_profit\n",
        "        exit_time = ohlc_data.loc[ohlc_data['high_since_entry'].idxmax(), 'date']\n",
        "\n",
        "    # Calcular rendimiento\n",
        "    pnl_percent = ((exit_price - entry_price) / entry_price) * 100\n",
        "\n",
        "    # Guardar resultado\n",
        "    results.append({\n",
        "        'ticker': ticker,\n",
        "        'alert_date': alert_date,\n",
        "        'entry_price': entry_price,\n",
        "        'exit_time': exit_time,\n",
        "        'exit_price': exit_price,\n",
        "        'pnl_percent': pnl_percent\n",
        "    })\n",
        "\n",
        "# Convertir resultados a DataFrame\n",
        "results_df = pd.DataFrame(results)\n",
        "\n",
        "print(results_df)"
      ],
      "metadata": {
        "id": "qRwuJtLFKb_j",
        "colab": {
          "base_uri": "https://localhost:8080/"
        },
        "outputId": "310c142c-dd0a-456a-b042-b3560e2017af"
      },
      "execution_count": null,
      "outputs": [
        {
          "output_type": "stream",
          "name": "stdout",
          "text": [
            "    ticker          alert_date  entry_price            exit_time  exit_price  \\\n",
            "0     STTK 2024-10-08 15:30:49       1.2530  2024-10-08 19:48:00      1.3800   \n",
            "1      DAO 2024-10-08 15:34:19       5.0500  2024-10-08 17:51:00      5.4800   \n",
            "2     PETZ 2024-10-08 15:36:05       1.4800  2024-10-08 20:37:00      1.6100   \n",
            "3     MYTE 2024-10-08 15:40:57       7.6900  2024-10-08 17:46:00      8.1600   \n",
            "4      RHE 2024-10-08 15:46:07       2.5500  2024-10-08 15:52:00      2.3205   \n",
            "..     ...                 ...          ...                  ...         ...   \n",
            "404   ALLR 2024-10-23 18:29:42       1.6605  2024-10-23 19:01:00      1.6400   \n",
            "405   PSQH 2024-10-23 18:39:57       2.8100  2024-10-23 18:40:00      2.8100   \n",
            "406   LYRA 2024-10-23 18:55:17       0.2709  2024-10-23 20:42:00      0.2974   \n",
            "407   GORO 2024-10-23 21:11:27       0.5288  2024-10-23 21:17:00      0.5195   \n",
            "408   APLM 2024-10-23 21:40:32       0.1499  2024-10-23 21:59:00      0.1455   \n",
            "\n",
            "     pnl_percent  \n",
            "0      10.135674  \n",
            "1       8.514851  \n",
            "2       8.783784  \n",
            "3       6.111834  \n",
            "4      -9.000000  \n",
            "..           ...  \n",
            "404    -1.234568  \n",
            "405     0.000000  \n",
            "406     9.782207  \n",
            "407    -1.758699  \n",
            "408    -2.935290  \n",
            "\n",
            "[409 rows x 6 columns]\n"
          ]
        }
      ]
    },
    {
      "cell_type": "markdown",
      "source": [
        "# 4. Calcular Métricas de Rendimiento\n",
        "\n",
        "Este bloque de código calcula y muestra métricas clave sobre el rendimiento de las operaciones realizadas en el análisis. Las métricas calculadas incluyen el número total de operaciones, el número de operaciones ganadoras y perdedoras, el beneficio neto en porcentaje, la tasa de ganancia y el rendimiento promedio.\n",
        "\n",
        "### Explicación:\n",
        "1. **Total de Operaciones**:\n",
        "   - Se calcula el número total de operaciones (`total_trades`) contando las filas en el `DataFrame` de resultados (`results_df`).\n",
        "\n",
        "2. **Operaciones Ganadoras y Perdedoras**:\n",
        "   - Las operaciones ganadoras se identifican como aquellas con un `pnl_percent` positivo, y las operaciones perdedoras se calculan como la diferencia entre el total de operaciones y las ganadoras.\n",
        "\n",
        "3. **Beneficio Neto**:\n",
        "   - El beneficio neto (`net_profit_percentage`) se calcula sumando todos los `pnl_percent` de las operaciones.\n",
        "\n",
        "4. **Tasa de Ganancia**:\n",
        "   - La tasa de ganancia (`win_rate`) se calcula como el porcentaje de operaciones ganadoras sobre el total de operaciones.\n",
        "\n",
        "5. **Rendimiento Promedio**:\n",
        "   - El rendimiento promedio (`average_pnl_percentage`) es el beneficio neto dividido por el número total de operaciones.\n",
        "\n",
        "6. **Condiciones Especiales**:\n",
        "   - Si no hay operaciones, todas las métricas se asignan a cero para evitar errores en el cálculo.\n",
        "\n",
        "### Resultados Impresos:\n",
        "- **Total Trades**: El número total de operaciones realizadas.\n",
        "- **Winning Trades**: El número de operaciones ganadoras, seguido de su porcentaje respecto al total.\n",
        "- **Net Profit%**: El beneficio neto acumulado en porcentaje.\n",
        "- **Average PNL%**: El rendimiento promedio de todas las operaciones.\n",
        "\n",
        "Este cálculo es esencial para evaluar el éxito de la estrategia utilizada y tomar decisiones informadas para futuras operaciones.\n"
      ],
      "metadata": {
        "id": "WTgN-ACuAOOn"
      }
    },
    {
      "cell_type": "code",
      "source": [
        "from IPython.display import Markdown\n",
        "from scipy import stats\n",
        "\n",
        "# Asegúrate de que la columna 'date' esté en formato datetime\n",
        "filtered_alerts['date'] = pd.to_datetime(filtered_alerts['date'])\n",
        "\n",
        "# Contar días únicos en los que hay datos de OHLC disponibles\n",
        "unique_ohlc_dates = filtered_alerts['date'].dt.date.unique()\n",
        "num_days_ohlc_analyzed = len(unique_ohlc_dates)\n",
        "\n",
        "# Filtrar operaciones ganadoras y perdedoras\n",
        "winning_trades = results_df[results_df['pnl_percent'] > 0]  # DataFrame con operaciones ganadoras\n",
        "losing_trades = results_df[results_df['pnl_percent'] <= 0]  # DataFrame con operaciones perdedoras\n",
        "\n",
        "# Calcular métricas de rendimiento\n",
        "total_trades = len(results_df)\n",
        "num_winning_trades = len(winning_trades)\n",
        "num_losing_trades = len(losing_trades)\n",
        "\n",
        "# Inicialización de métricas\n",
        "total_gains_percent = winning_trades['pnl_percent'].sum() if not winning_trades.empty else 0\n",
        "total_losses_percent = abs(losing_trades['pnl_percent'].sum()) if not losing_trades.empty else 0\n",
        "net_profit_percentage = results_df['pnl_percent'].sum() if total_trades > 0 else 0\n",
        "win_rate = (num_winning_trades / total_trades * 100) if total_trades > 0 else 0\n",
        "average_pnl_percentage = net_profit_percentage / total_trades if total_trades > 0 else 0\n",
        "profit_factor = total_gains_percent / total_losses_percent if total_losses_percent > 0 else float('inf')\n",
        "\n",
        "# Calcular la moda de las ganancias/pérdidas\n",
        "most_frequent_pnl = results_df['pnl_percent'].mode()\n",
        "most_frequent_pnl = most_frequent_pnl[0] if not most_frequent_pnl.empty else 0\n",
        "\n",
        "# Calcular importe mínimo necesario por trade\n",
        "pnl_percent_medio = results_df['pnl_percent'].mean() if total_trades > 0 else 0\n",
        "comision_total = 3.8  # Ejemplo de comisión total por operación\n",
        "importe_minimo = (comision_total * 100) / pnl_percent_medio if pnl_percent_medio != 0 else 0\n",
        "\n",
        "# Calcular el Ratio de Ganancia/Perdida (Win/Loss Ratio)\n",
        "win_loss_ratio = num_winning_trades / num_losing_trades if num_losing_trades > 0 else float('inf')\n",
        "\n",
        "# Rendimiento promedio de las operaciones perdedoras\n",
        "average_loss_percentage = losing_trades['pnl_percent'].mean() if num_losing_trades > 0 else 0\n",
        "\n",
        "def calculate_expected_shortfall(returns, confidence_level=0.95):\n",
        "    \"\"\"\n",
        "    Calcula el Expected Shortfall (ES) para un conjunto de retornos\n",
        "\n",
        "    Parameters:\n",
        "    returns (array-like): Serie de retornos\n",
        "    confidence_level (float): Nivel de confianza (por defecto 0.95)\n",
        "\n",
        "    Returns:\n",
        "    float: Expected Shortfall\n",
        "    \"\"\"\n",
        "    if len(returns) == 0:\n",
        "        return 0\n",
        "\n",
        "    # Ordenar los retornos de menor a mayor\n",
        "    sorted_returns = np.sort(returns)\n",
        "\n",
        "    # Calcular el índice correspondiente al VaR\n",
        "    cutoff_index = int((1 - confidence_level) * len(sorted_returns))\n",
        "\n",
        "    # Calcular ES como el promedio de los retornos por debajo del VaR\n",
        "    es = sorted_returns[:cutoff_index].mean() if cutoff_index > 0 else sorted_returns[0]\n",
        "\n",
        "    return es\n",
        "\n",
        "# Calcular VaR y ES\n",
        "confidence_levels = [0.95, 0.99]  # Puedes ajustar los niveles de confianza\n",
        "var_metrics = {}\n",
        "es_metrics = {}\n",
        "\n",
        "for conf_level in confidence_levels:\n",
        "    returns = results_df['pnl_percent'].values\n",
        "\n",
        "    # Calcular VaR\n",
        "    var = np.percentile(returns, (1 - conf_level) * 100)\n",
        "    var_metrics[conf_level] = var\n",
        "\n",
        "    # Calcular ES\n",
        "    es = calculate_expected_shortfall(returns, conf_level)\n",
        "    es_metrics[conf_level] = es\n",
        "\n",
        "# Formateo de resultados\n",
        "metrics = [\n",
        "    (\"Total Trades con datos disponibles OHLC\", total_trades),\n",
        "    (\"Winning Trades\", f\"{num_winning_trades} ({win_rate:.2f}%)\"),\n",
        "    (\"Losing Trades\", f\"{num_losing_trades} ({100 - win_rate:.2f}%)\"),\n",
        "    (\"Net Profit%\", f\"{net_profit_percentage:.2f}%\"),\n",
        "    (\"Average PNL%\", f\"{average_pnl_percentage:.2f}%\"),\n",
        "    (\"Profit Factor\", f\"{profit_factor:.2f}\"),\n",
        "    (\"Win/Loss Ratio\", f\"{win_loss_ratio:.2f}\"),\n",
        "    (\"Moda de PNL%\", f\"{most_frequent_pnl:.2f}\"),\n",
        "    (\"Cantidad de días analizados\", num_days_ohlc_analyzed),\n",
        "    (\"Importe mínimo necesario por trade\", f\"${importe_minimo:.2f}\"),\n",
        "    (\"Average Loss%\", f\"{average_loss_percentage:.2f}%\")\n",
        "]\n",
        "\n",
        "# Añadir métricas de VaR y ES\n",
        "for conf_level in confidence_levels:\n",
        "    metrics.extend([\n",
        "        (f\"VaR ({conf_level*100}%)\", f\"{var_metrics[conf_level]:.2f}%\"),\n",
        "        (f\"Expected Shortfall ({conf_level*100}%)\", f\"{es_metrics[conf_level]:.2f}%\")\n",
        "    ])\n",
        "\n",
        "# Crear la tabla Markdown\n",
        "markdown_table = \"|    **Métrica**        |    **Valor**           |\\n\"\n",
        "markdown_table += \"|-----------------------|------------------------|\\n\"\n",
        "\n",
        "# Añadir las filas de la tabla\n",
        "for metric, value in metrics:\n",
        "    markdown_table += f\"| {metric} | {value} |\\n\"\n",
        "\n",
        "# Mostrar la tabla en Markdown\n",
        "display(Markdown(markdown_table))\n",
        "\n",
        "# Texto dinámico con los valores de las variables en formato Markdown\n",
        "markdown_text = f\"\"\"\n",
        "# Interpretación de los Resultados:\n",
        "\n",
        "1. **Total Trades con datos OHLC disponibles:** {total_trades}\n",
        "   - Se generaron un total de {total_trades} señales de entrada basadas en las condiciones de la estrategia.\n",
        "\n",
        "2. **Winning Trades:** {num_winning_trades} ({win_rate:.2f}%)\n",
        "   - El {win_rate:.2f}% de las operaciones fueron ganadoras.\n",
        "\n",
        "3. **Losing Trades:** {num_losing_trades} ({100 - win_rate:.2f}%)\n",
        "   - El {100 - win_rate:.2f}% de las operaciones fueron perdedoras.\n",
        "\n",
        "4. **Net Profit:** {net_profit_percentage:.2f}%\n",
        "   - Beneficio neto acumulado de las operaciones.\n",
        "\n",
        "5. **Average PNL%:** {average_pnl_percentage:.2f}%\n",
        "   - Rendimiento promedio por operación.\n",
        "\n",
        "6. **Profit Factor:** {profit_factor:.2f}\n",
        "   - Este ratio refleja la relación entre las ganancias y las pérdidas. Un valor superior a 1 indica que las ganancias superan a las pérdidas en promedio.\n",
        "\n",
        "7. **Win/Loss Ratio:** {win_loss_ratio:.2f}\n",
        "   - Este ratio indica cuántas operaciones ganadoras se realizan por cada operación perdedora. Si es superior a 1, la estrategia es más ganadora que perdedora.\n",
        "\n",
        "8. **Moda de PNL%:** {most_frequent_pnl:.2f}%\n",
        "   - Valor más frecuente de las ganancias/pérdidas.\n",
        "\n",
        "9. **Importe mínimo necesario por trade:** ${importe_minimo:.2f}\n",
        "   - Basado en la comisión por operación y el rendimiento medio por operación.\n",
        "\n",
        "10. **Average Loss%:** {average_loss_percentage:.2f}%\n",
        "    - Rendimiento promedio de las operaciones perdedoras. Este valor muestra cuántas pérdidas ocurren en promedio por operación perdedora.\n",
        "\n",
        "11. **Medidas de Riesgo Avanzadas:**\n",
        "    - **VaR (95%):** {var_metrics[0.95]:.2f}%\n",
        "      * Con un 95% de confianza, las pérdidas no excederán este valor.\n",
        "    - **Expected Shortfall (95%):** {es_metrics[0.95]:.2f}%\n",
        "      * Pérdida esperada cuando se excede el VaR del 95%.\n",
        "    - **VaR (99%):** {var_metrics[0.99]:.2f}%\n",
        "      * Con un 99% de confianza, las pérdidas no excederán este valor.\n",
        "    - **Expected Shortfall (99%):** {es_metrics[0.99]:.2f}%\n",
        "      * Pérdida esperada cuando se excede el VaR del 99%.\n",
        "\"\"\"\n",
        "\n",
        "# Mostrar el texto en formato Markdown\n",
        "display(Markdown(markdown_text))\n"
      ],
      "metadata": {
        "colab": {
          "base_uri": "https://localhost:8080/",
          "height": 1000
        },
        "id": "OAmPEspljmoT",
        "outputId": "dac249b9-ad91-43d2-fc83-3820f3ae1552"
      },
      "execution_count": null,
      "outputs": [
        {
          "output_type": "display_data",
          "data": {
            "text/plain": [
              "<IPython.core.display.Markdown object>"
            ],
            "text/markdown": "|    **Métrica**        |    **Valor**           |\n|-----------------------|------------------------|\n| Total Trades con datos disponibles OHLC | 409 |\n| Winning Trades | 251 (61.37%) |\n| Losing Trades | 158 (38.63%) |\n| Net Profit% | 3044.40% |\n| Average PNL% | 7.44% |\n| Profit Factor | 5.53 |\n| Win/Loss Ratio | 1.59 |\n| Moda de PNL% | -9.00 |\n| Cantidad de días analizados | 12 |\n| Importe mínimo necesario por trade | $51.05 |\n| Average Loss% | -4.26% |\n| VaR (95.0%) | -9.00% |\n| Expected Shortfall (95.0%) | -9.00% |\n| VaR (99.0%) | -9.00% |\n| Expected Shortfall (99.0%) | -9.00% |\n"
          },
          "metadata": {}
        },
        {
          "output_type": "display_data",
          "data": {
            "text/plain": [
              "<IPython.core.display.Markdown object>"
            ],
            "text/markdown": "\n# Interpretación de los Resultados:\n\n1. **Total Trades con datos OHLC disponibles:** 409\n   - Se generaron un total de 409 señales de entrada basadas en las condiciones de la estrategia.\n\n2. **Winning Trades:** 251 (61.37%)\n   - El 61.37% de las operaciones fueron ganadoras.\n\n3. **Losing Trades:** 158 (38.63%)\n   - El 38.63% de las operaciones fueron perdedoras.\n\n4. **Net Profit:** 3044.40%\n   - Beneficio neto acumulado de las operaciones.\n\n5. **Average PNL%:** 7.44%\n   - Rendimiento promedio por operación.\n\n6. **Profit Factor:** 5.53\n   - Este ratio refleja la relación entre las ganancias y las pérdidas. Un valor superior a 1 indica que las ganancias superan a las pérdidas en promedio.\n\n7. **Win/Loss Ratio:** 1.59\n   - Este ratio indica cuántas operaciones ganadoras se realizan por cada operación perdedora. Si es superior a 1, la estrategia es más ganadora que perdedora.\n\n8. **Moda de PNL%:** -9.00%\n   - Valor más frecuente de las ganancias/pérdidas.\n\n9. **Importe mínimo necesario por trade:** $51.05\n   - Basado en la comisión por operación y el rendimiento medio por operación.\n\n10. **Average Loss%:** -4.26%\n    - Rendimiento promedio de las operaciones perdedoras. Este valor muestra cuántas pérdidas ocurren en promedio por operación perdedora.\n\n11. **Medidas de Riesgo Avanzadas:**\n    - **VaR (95%):** -9.00%\n      * Con un 95% de confianza, las pérdidas no excederán este valor.\n    - **Expected Shortfall (95%):** -9.00%\n      * Pérdida esperada cuando se excede el VaR del 95%.\n    - **VaR (99%):** -9.00%\n      * Con un 99% de confianza, las pérdidas no excederán este valor.\n    - **Expected Shortfall (99%):** -9.00%\n      * Pérdida esperada cuando se excede el VaR del 99%.\n"
          },
          "metadata": {}
        }
      ]
    },
    {
      "cell_type": "code",
      "source": [
        "from IPython.display import Markdown\n",
        "\n",
        "# Asegúrate de que la columna 'date' esté en formato datetime\n",
        "filtered_alerts['date'] = pd.to_datetime(filtered_alerts['date'])\n",
        "\n",
        "# Contar días únicos en los que hay datos de OHLC disponibles\n",
        "unique_ohlc_dates = filtered_alerts['date'].dt.date.unique()\n",
        "num_days_ohlc_analyzed = len(unique_ohlc_dates)\n",
        "\n",
        "# Filtrar operaciones ganadoras y perdedoras\n",
        "winning_trades = results_df[results_df['pnl_percent'] > 0]  # DataFrame con operaciones ganadoras\n",
        "losing_trades = results_df[results_df['pnl_percent'] <= 0]  # DataFrame con operaciones perdedoras\n",
        "\n",
        "# Calcular métricas de rendimiento\n",
        "total_trades = len(results_df)\n",
        "num_winning_trades = len(winning_trades)\n",
        "num_losing_trades = len(losing_trades)\n",
        "\n",
        "# Inicialización de métricas\n",
        "total_gains_percent = winning_trades['pnl_percent'].sum() if not winning_trades.empty else 0\n",
        "total_losses_percent = abs(losing_trades['pnl_percent'].sum()) if not losing_trades.empty else 0\n",
        "net_profit_percentage = results_df['pnl_percent'].sum() if total_trades > 0 else 0\n",
        "win_rate = (num_winning_trades / total_trades * 100) if total_trades > 0 else 0\n",
        "average_pnl_percentage = net_profit_percentage / total_trades if total_trades > 0 else 0\n",
        "profit_factor = total_gains_percent / total_losses_percent if total_losses_percent > 0 else float('inf')\n",
        "\n",
        "# Calcular la moda de las ganancias/pérdidas\n",
        "most_frequent_pnl = results_df['pnl_percent'].mode()\n",
        "most_frequent_pnl = most_frequent_pnl[0] if not most_frequent_pnl.empty else 0\n",
        "\n",
        "# Calcular importe mínimo necesario por trade\n",
        "pnl_percent_medio = results_df['pnl_percent'].mean() if total_trades > 0 else 0\n",
        "comision_total = 3.8  # Ejemplo de comisión total por operación\n",
        "importe_minimo = (comision_total * 100) / pnl_percent_medio if pnl_percent_medio != 0 else 0\n",
        "\n",
        "# Calcular el Ratio de Ganancia/Perdida (Win/Loss Ratio)\n",
        "win_loss_ratio = num_winning_trades / num_losing_trades if num_losing_trades > 0 else float('inf')\n",
        "\n",
        "# Rendimiento promedio de las operaciones perdedoras\n",
        "average_loss_percentage = losing_trades['pnl_percent'].mean() if num_losing_trades > 0 else 0\n",
        "\n",
        "# Formateo de resultados\n",
        "metrics = [\n",
        "    (\"Total Trades con datos disponibles OHLC\", total_trades),\n",
        "    (\"Winning Trades\", f\"{num_winning_trades} ({win_rate:.2f}%)\"),\n",
        "    (\"Losing Trades\", f\"{num_losing_trades} ({100 - win_rate:.2f}%)\"),\n",
        "    (\"Net Profit%\", f\"{net_profit_percentage:.2f}%\"),\n",
        "    (\"Average PNL%\", f\"{average_pnl_percentage:.2f}%\"),\n",
        "    (\"Profit Factor\", f\"{profit_factor:.2f}\"),\n",
        "    (\"Win/Loss Ratio\", f\"{win_loss_ratio:.2f}\"),\n",
        "    (\"Moda de PNL%\", f\"{most_frequent_pnl:.2f}\"),\n",
        "    (\"Cantidad de días analizados\", num_days_ohlc_analyzed),\n",
        "    (\"Importe mínimo necesario por trade\", f\"${importe_minimo:.2f}\"),\n",
        "    (\"Average Loss%\", f\"{average_loss_percentage:.2f}%\")\n",
        "]\n",
        "\n",
        "# Crear la tabla Markdown\n",
        "markdown_table = \"|    **Métrica**        |    **Valor**           |\\n\"\n",
        "markdown_table += \"|-----------------------|------------------------|\\n\"\n",
        "\n",
        "# Añadir las filas de la tabla\n",
        "for metric, value in metrics:\n",
        "    markdown_table += f\"| {metric} | {value} |\\n\"\n",
        "\n",
        "# Mostrar la tabla en Markdown\n",
        "display(Markdown(markdown_table))\n",
        "\n",
        "# Texto dinámico con los valores de las variables en formato Markdown\n",
        "markdown_text = f\"\"\"\n",
        "# Interpretación de los Resultados:\n",
        "\n",
        "1. **Total Trades con datos OHLC disponibles:** {total_trades}\n",
        "   - Se generaron un total de {total_trades} señales de entrada basadas en las condiciones de la estrategia.\n",
        "\n",
        "2. **Winning Trades:** {num_winning_trades} ({win_rate:.2f}%)\n",
        "   - El {win_rate:.2f}% de las operaciones fueron ganadoras.\n",
        "\n",
        "3. **Losing Trades:** {num_losing_trades} ({100 - win_rate:.2f}%)\n",
        "   - El {100 - win_rate:.2f}% de las operaciones fueron perdedoras.\n",
        "\n",
        "4. **Net Profit:** {net_profit_percentage:.2f}%\n",
        "   - Beneficio neto acumulado de las operaciones.\n",
        "\n",
        "5. **Average PNL%:** {average_pnl_percentage:.2f}%\n",
        "   - Rendimiento promedio por operación.\n",
        "\n",
        "6. **Profit Factor:** {profit_factor:.2f}\n",
        "   - Este ratio refleja la relación entre las ganancias y las pérdidas. Un valor superior a 1 indica que las ganancias superan a las pérdidas en promedio.\n",
        "\n",
        "7. **Win/Loss Ratio:** {win_loss_ratio:.2f}\n",
        "   - Este ratio indica cuántas operaciones ganadoras se realizan por cada operación perdedora. Si es superior a 1, la estrategia es más ganadora que perdedora.\n",
        "\n",
        "8. **Moda de PNL%:** {most_frequent_pnl:.2f}%\n",
        "   - Valor más frecuente de las ganancias/pérdidas.\n",
        "\n",
        "9. **Importe mínimo necesario por trade:** ${importe_minimo:.2f}\n",
        "   - Basado en la comisión por operación y el rendimiento medio por operación.\n",
        "\n",
        "10. **Average Loss%:** {average_loss_percentage:.2f}%\n",
        "    - Rendimiento promedio de las operaciones perdedoras. Este valor muestra cuántas pérdidas ocurren en promedio por operación perdedora.\n",
        "\"\"\"\n",
        "\n",
        "# Mostrar el texto en formato Markdown\n",
        "display(Markdown(markdown_text))\n"
      ],
      "metadata": {
        "id": "a7Z3Z7d5KpYR",
        "colab": {
          "base_uri": "https://localhost:8080/",
          "height": 942
        },
        "outputId": "38e974ac-c786-428c-efa5-a2f2fca5419a"
      },
      "execution_count": null,
      "outputs": [
        {
          "output_type": "display_data",
          "data": {
            "text/plain": [
              "<IPython.core.display.Markdown object>"
            ],
            "text/markdown": "|    **Métrica**        |    **Valor**           |\n|-----------------------|------------------------|\n| Total Trades con datos disponibles OHLC | 13 |\n| Winning Trades | 11 (84.62%) |\n| Losing Trades | 2 (15.38%) |\n| Net Profit% | 156.78% |\n| Average PNL% | 12.06% |\n| Profit Factor | 40.41 |\n| Win/Loss Ratio | 5.50 |\n| Moda de PNL% | -2.42 |\n| Cantidad de días analizados | 4 |\n| Importe mínimo necesario por trade | $31.51 |\n| Average Loss% | -1.99% |\n"
          },
          "metadata": {}
        },
        {
          "output_type": "display_data",
          "data": {
            "text/plain": [
              "<IPython.core.display.Markdown object>"
            ],
            "text/markdown": "\n# Interpretación de los Resultados:\n\n1. **Total Trades con datos OHLC disponibles:** 13\n   - Se generaron un total de 13 señales de entrada basadas en las condiciones de la estrategia.\n\n2. **Winning Trades:** 11 (84.62%)\n   - El 84.62% de las operaciones fueron ganadoras.\n\n3. **Losing Trades:** 2 (15.38%)\n   - El 15.38% de las operaciones fueron perdedoras.\n\n4. **Net Profit:** 156.78%\n   - Beneficio neto acumulado de las operaciones.\n\n5. **Average PNL%:** 12.06%\n   - Rendimiento promedio por operación.\n\n6. **Profit Factor:** 40.41\n   - Este ratio refleja la relación entre las ganancias y las pérdidas. Un valor superior a 1 indica que las ganancias superan a las pérdidas en promedio.\n\n7. **Win/Loss Ratio:** 5.50\n   - Este ratio indica cuántas operaciones ganadoras se realizan por cada operación perdedora. Si es superior a 1, la estrategia es más ganadora que perdedora.\n\n8. **Moda de PNL%:** -2.42%\n   - Valor más frecuente de las ganancias/pérdidas.\n\n9. **Importe mínimo necesario por trade:** $31.51\n   - Basado en la comisión por operación y el rendimiento medio por operación.\n\n10. **Average Loss%:** -1.99%\n    - Rendimiento promedio de las operaciones perdedoras. Este valor muestra cuántas pérdidas ocurren en promedio por operación perdedora.\n"
          },
          "metadata": {}
        }
      ]
    },
    {
      "cell_type": "code",
      "source": [
        "results_df['pnl_percent'].hist(bins=200, edgecolor='k', color='lightblue', figsize=(18, 6))\n",
        "plt.title('Distribución de Ganancias/Pérdidas')\n",
        "plt.xlabel('Ganancia/Pérdida')\n",
        "plt.ylabel('Frecuencia')\n",
        "plt.show()"
      ],
      "metadata": {
        "id": "yE2j3BZYM5sv",
        "colab": {
          "base_uri": "https://localhost:8080/",
          "height": 453
        },
        "outputId": "34fed548-6687-4187-e53c-424c1b625048"
      },
      "execution_count": null,
      "outputs": [
        {
          "output_type": "display_data",
          "data": {
            "text/plain": [
              "<Figure size 1800x600 with 1 Axes>"
            ],
            "image/png": "[encoded data removed]"
          },
          "metadata": {}
        }
      ]
    },
    {
      "cell_type": "code",
      "source": [
        "# Preparación del texto de observación en formato Markdown\n",
        "markdown_text = f\"\"\"\n",
        "# Observación de los Resultados:\n",
        "\n",
        "La mayor parte de las operaciones se encuentran en torno a **{round(most_frequent_pnl, 2)}%**. Este es el valor con mayor frecuencia en las ganancias/pérdidas, lo que indica que muchas de las operaciones resultaron con ganancias o pérdidas cercanas a este valor. Esto podría sugerir que las operaciones se cerraron sin un gran movimiento en el precio, permaneciendo cerca del punto de entrada.\n",
        "\n",
        "Hay **{num_winning_trades}** operaciones con ganancias significativas (alrededor de **{round(net_profit_percentage, 2)}%**), que parecen ser responsables de la mayoría de la rentabilidad total.\n",
        "\n",
        "Una operación con un valor ligeramente positivo (cerca de **{round(average_pnl_percentage, 2)}%**), posiblemente menor ganancia.\n",
        "\n",
        "---\n",
        "\n",
        "## Conclusión:\n",
        "\n",
        "La estrategia genera pocas operaciones ganadoras de gran impacto, mientras que muchas operaciones tienen resultados mínimos o nulos. Esto indica que el rendimiento depende mucho de capturar esas pocas operaciones exitosas.\n",
        "\n",
        "## Siguientes pasos para optimizar:\n",
        "\n",
        "- **Ampliar el horizonte temporal**: Verificar si el tiempo entre entrada y salida (para alcanzar TP o SL) es demasiado corto. Se podrían modificar los niveles de TP/SL o esperar más tiempo antes de cerrar.\n",
        "\n",
        "- **Revisar el filtro de señales**: Evaluar si las condiciones de entrada (como RV > 5 y volumen > 100k) podrían ajustarse para capturar más señales con mayor potencial.\n",
        "\n",
        "- **Agregar un filtro adicional**: Por ejemplo, combinando el análisis de volumen relativo con otro indicador como el RSI o EMA para mejorar la calidad de las señales.\n",
        "\"\"\"\n",
        "\n",
        "# Mostrar el texto en formato Markdown\n",
        "display(Markdown(markdown_text))\n"
      ],
      "metadata": {
        "id": "VbEXoqPOJUQE",
        "colab": {
          "base_uri": "https://localhost:8080/",
          "height": 435
        },
        "outputId": "f3bb0c66-a87e-4725-9a65-e3fc9b5cfa32"
      },
      "execution_count": null,
      "outputs": [
        {
          "output_type": "display_data",
          "data": {
            "text/plain": [
              "<IPython.core.display.Markdown object>"
            ],
            "text/markdown": "\n# Observación de los Resultados:\n\nLa mayor parte de las operaciones se encuentran en torno a **0.0%**. Este es el valor con mayor frecuencia en las ganancias/pérdidas, lo que indica que muchas de las operaciones resultaron con ganancias o pérdidas cercanas a este valor. Esto podría sugerir que las operaciones se cerraron sin un gran movimiento en el precio, permaneciendo cerca del punto de entrada.\n\nHay **55** operaciones con ganancias significativas (alrededor de **483.19%**), que parecen ser responsables de la mayoría de la rentabilidad total.\n\nUna operación con un valor ligeramente positivo (cerca de **6.81%**), posiblemente menor ganancia.\n\n---\n\n## Conclusión:\n\nLa estrategia genera pocas operaciones ganadoras de gran impacto, mientras que muchas operaciones tienen resultados mínimos o nulos. Esto indica que el rendimiento depende mucho de capturar esas pocas operaciones exitosas.\n\n## Siguientes pasos para optimizar:\n\n- **Ampliar el horizonte temporal**: Verificar si el tiempo entre entrada y salida (para alcanzar TP o SL) es demasiado corto. Se podrían modificar los niveles de TP/SL o esperar más tiempo antes de cerrar.\n\n- **Revisar el filtro de señales**: Evaluar si las condiciones de entrada (como RV > 5 y volumen > 100k) podrían ajustarse para capturar más señales con mayor potencial.\n\n- **Agregar un filtro adicional**: Por ejemplo, combinando el análisis de volumen relativo con otro indicador como el RSI o EMA para mejorar la calidad de las señales.\n"
          },
          "metadata": {}
        }
      ]
    },
    {
      "cell_type": "code",
      "source": [
        "winning_trades = results_df[results_df['pnl_percent'] > 0]"
      ],
      "metadata": {
        "id": "r-eyyyXxELRf"
      },
      "execution_count": null,
      "outputs": []
    },
    {
      "cell_type": "code",
      "source": [
        "# Seleccionar las columnas necesarias si existen\n",
        "if 'alert_date' in results_df.columns and 'exit_time' in results_df.columns:\n",
        "    # Ordenar y seleccionar las top 5 operaciones ganadoras\n",
        "    top_winners = results_df.sort_values(by='pnl_percent', ascending=False).head(340)\n",
        "\n",
        "    # Crear la tabla Markdown con el título\n",
        "    markdown_table = \"# **Top Winning Trades**\\n\\n\"  # Título en Markdown\n",
        "    markdown_table += \"|    **Ticker**     |    **Fecha de Alerta**     |    **Precio de Entrada**     |    **Fecha de Salida**     |    **Precio de Salida**     |    **Pnl %**     |\\n\"\n",
        "    markdown_table += \"|-------------------|----------------------------|------------------------------|----------------------------|----------------------------|-----------------|\\n\"\n",
        "\n",
        "    # Añadir las filas de la tabla\n",
        "    for _, row in top_winners.iterrows():\n",
        "        # Redondear pnl_percent a 2 decimales\n",
        "        pnl_percent_rounded = round(row['pnl_percent'], 2)\n",
        "        exit_price_rounded = round(row['exit_price'], 2)\n",
        "        entry_price_rounded = round(row['entry_price'], 2)\n",
        "\n",
        "        markdown_table += f\"| {row['ticker']} | {row['alert_date']} | {entry_price_rounded} | {row['exit_time']} | {exit_price_rounded} | {pnl_percent_rounded} |\\n\"\n",
        "\n",
        "    # Mostrar la tabla en formato Markdown\n",
        "    display(Markdown(markdown_table))\n",
        "\n",
        "else:\n",
        "    print(\"Las columnas 'alert_date' o 'exit_time' no existen en el DataFrame.\")"
      ],
      "metadata": {
        "id": "cUEMOwd_Els9",
        "colab": {
          "base_uri": "https://localhost:8080/",
          "height": 1000
        },
        "outputId": "5e747fb5-ecfb-4a0d-8529-b238a104cc0f"
      },
      "execution_count": null,
      "outputs": [
        {
          "output_type": "display_data",
          "data": {
            "text/plain": [
              "<IPython.core.display.Markdown object>"
            ],
            "text/markdown": "# **Top Winning Trades**\n\n|    **Ticker**     |    **Fecha de Alerta**     |    **Precio de Entrada**     |    **Fecha de Salida**     |    **Precio de Salida**     |    **Pnl %**     |\n|-------------------|----------------------------|------------------------------|----------------------------|----------------------------|-----------------|\n| GLXG | 2024-10-10 16:44:34 | 8.66 | 2024-10-10 20:31:00 | 13.88 | 60.28 |\n| OKLO | 2024-10-18 15:33:33 | 16.21 | 2024-10-18 16:45:00 | 20.64 | 27.33 |\n| NNE | 2024-10-21 15:32:51 | 21.96 | 2024-10-21 21:50:00 | 27.74 | 26.29 |\n| IGMS | 2024-10-22 15:30:20 | 15.79 | 2024-10-22 15:56:00 | 19.8 | 25.43 |\n| LTBR | 2024-10-16 18:12:46 | 4.5 | 2024-10-16 21:39:00 | 5.61 | 24.67 |\n| TGI | 2024-10-10 21:26:32 | 11.93 | 2024-10-10 21:51:00 | 14.71 | 23.3 |\n| PDYN | 2024-10-09 15:30:56 | 2.82 | 2024-10-09 15:40:00 | 3.48 | 23.23 |\n| BAER | 2024-10-18 15:30:32 | 2.88 | 2024-10-18 17:54:00 | 3.5 | 21.7 |\n| FTEL | 2024-10-21 20:17:49 | 22.35 | 2024-10-21 20:36:00 | 26.36 | 17.92 |\n| SABS | 2024-10-16 18:39:49 | 2.72 | 2024-10-16 21:22:00 | 3.2 | 17.65 |\n| ASPI | 2024-10-17 15:30:43 | 3.87 | 2024-10-17 17:58:00 | 4.45 | 15.14 |\n| QMMM | 2024-10-15 16:18:10 | 8.28 | 2024-10-15 20:53:00 | 9.49 | 14.61 |\n| MULN | 2024-10-21 15:33:29 | 2.96 | 2024-10-21 15:40:00 | 3.38 | 14.14 |\n| HOWL | 2024-10-22 15:59:56 | 3.44 | 2024-10-22 17:53:00 | 3.89 | 13.08 |\n| WCT | 2024-10-15 15:40:20 | 6.46 | 2024-10-15 21:50:00 | 7.26 | 12.38 |\n| LTBR | 2024-10-18 20:05:18 | 6.48 | 2024-10-18 21:43:00 | 7.25 | 11.88 |\n| NNE | 2024-10-18 15:33:46 | 20.39 | 2024-10-18 16:53:00 | 22.76 | 11.6 |\n| TCS | 2024-10-11 21:08:59 | 16.32 | 2024-10-11 21:32:00 | 18.19 | 11.46 |\n| DTSS | 2024-10-10 15:46:05 | 2.47 | 2024-10-10 15:55:00 | 2.75 | 11.34 |\n| VERI | 2024-10-11 15:31:15 | 5.12 | 2024-10-11 15:56:00 | 5.62 | 9.77 |\n| TNYA | 2024-10-18 15:30:52 | 2.32 | 2024-10-18 15:32:00 | 2.51 | 8.19 |\n| CLPT | 2024-10-18 15:45:39 | 13.13 | 2024-10-18 17:10:00 | 14.04 | 6.93 |\n| EXEL | 2024-10-15 17:00:20 | 27.16 | 2024-10-15 18:50:00 | 28.98 | 6.72 |\n| WW | 2024-10-11 15:43:48 | 1.95 | 2024-10-11 16:51:00 | 2.07 | 6.15 |\n| GDS | 2024-10-22 15:30:38 | 23.0 | 2024-10-22 16:08:00 | 24.42 | 6.15 |\n| MYTE | 2024-10-08 15:40:57 | 7.69 | 2024-10-08 17:46:00 | 8.16 | 6.11 |\n| QUBT | 2024-10-17 16:00:15 | 0.84 | 2024-10-17 16:01:00 | 0.89 | 5.95 |\n| MPW | 2024-10-18 15:30:24 | 4.75 | 2024-10-18 21:56:00 | 5.03 | 5.9 |\n| TVGN | 2024-10-22 17:25:58 | 1.55 | 2024-10-22 21:24:00 | 1.65 | 5.79 |\n| PYXS | 2024-10-21 15:31:22 | 3.96 | 2024-10-21 16:02:00 | 4.17 | 5.18 |\n| OKLO | 2024-10-10 15:30:12 | 9.43 | 2024-10-10 19:24:00 | 9.85 | 4.45 |\n| RAIL | 2024-10-18 15:37:20 | 12.44 | 2024-10-18 21:58:00 | 12.99 | 4.42 |\n| PHUN | 2024-10-18 15:35:33 | 7.35 | 2024-10-18 16:00:00 | 7.6 | 3.4 |\n| ZBIO | 2024-10-22 20:37:11 | 25.16 | 2024-10-22 21:42:00 | 25.95 | 3.16 |\n| SGMO | 2024-10-14 18:25:49 | 0.93 | 2024-10-14 19:06:00 | 0.96 | 3.0 |\n| AHCO | 2024-10-16 15:30:53 | 10.69 | 2024-10-16 16:06:00 | 11.0 | 2.95 |\n| ORKT | 2024-10-21 17:03:12 | 7.3 | 2024-10-21 21:58:00 | 7.51 | 2.88 |\n| FFIE | 2024-10-09 16:18:33 | 2.84 | 2024-10-09 16:19:00 | 2.92 | 2.82 |\n| ILLR | 2024-10-21 15:35:58 | 4.02 | 2024-10-21 15:36:00 | 4.13 | 2.74 |\n| SGMO | 2024-10-15 19:42:31 | 0.97 | 2024-10-15 21:20:00 | 0.99 | 2.23 |\n| STKL | 2024-10-09 15:30:26 | 6.48 | 2024-10-09 15:40:00 | 6.6 | 1.85 |\n| RR | 2024-10-18 18:35:58 | 0.75 | 2024-10-18 18:36:00 | 0.77 | 1.82 |\n| DNTH | 2024-10-18 15:32:52 | 28.98 | 2024-10-18 18:52:00 | 29.45 | 1.62 |\n| GWAV | 2024-10-18 17:09:04 | 0.45 | 2024-10-18 17:48:00 | 0.45 | 1.41 |\n| BITF | 2024-10-17 16:18:23 | 1.89 | 2024-10-17 17:39:00 | 1.91 | 1.33 |\n| ASPI | 2024-10-22 15:53:48 | 5.14 | 2024-10-22 15:54:00 | 5.21 | 1.26 |\n| AMLX | 2024-10-18 21:37:31 | 5.36 | 2024-10-18 21:38:00 | 5.42 | 1.03 |\n| ALAR | 2024-10-17 15:34:16 | 20.88 | 2024-10-17 15:35:00 | 21.05 | 0.81 |\n| JSPR | 2024-10-18 15:34:12 | 21.55 | 2024-10-18 15:38:00 | 21.71 | 0.77 |\n| GLXG | 2024-10-18 15:44:05 | 11.49 | 2024-10-18 15:55:00 | 11.57 | 0.7 |\n| NCLH | 2024-10-17 21:51:23 | 23.96 | 2024-10-17 21:59:00 | 24.11 | 0.63 |\n| KSCP | 2024-10-22 15:45:06 | 15.77 | 2024-10-22 16:19:00 | 15.85 | 0.51 |\n| SLQT | 2024-10-17 15:35:42 | 2.76 | 2024-10-17 15:42:00 | 2.77 | 0.36 |\n| WHLR | 2024-10-21 21:22:46 | 11.88 | 2024-10-21 21:43:00 | 11.91 | 0.25 |\n| MAX | 2024-10-21 21:53:04 | 18.99 | 2024-10-21 21:54:00 | 19.0 | 0.03 |\n| PSQH | 2024-10-23 18:39:57 | 2.81 | 2024-10-23 18:40:00 | 2.81 | 0.0 |\n| ORKT | 2024-10-18 19:11:07 | 7.13 | 2024-10-18 21:26:00 | 7.13 | 0.0 |\n| WW | 2024-10-18 16:20:16 | 1.44 | 2024-10-18 16:21:00 | 1.44 | 0.0 |\n| CRDF | 2024-10-18 18:09:56 | 3.21 | 2024-10-18 18:10:00 | 3.21 | -0.16 |\n| HOLO | 2024-10-15 15:48:27 | 5.96 | 2024-10-15 15:49:00 | 5.92 | -0.76 |\n| QBTS | 2024-10-21 18:15:47 | 1.29 | 2024-10-21 18:16:00 | 1.28 | -0.78 |\n| RDWR | 2024-10-21 15:36:46 | 24.34 | 2024-10-21 16:11:00 | 24.11 | -0.97 |\n| GLXG | 2024-10-15 16:58:19 | 10.15 | 2024-10-15 16:59:00 | 10.02 | -1.3 |\n| SLI | 2024-10-15 15:32:45 | 2.21 | 2024-10-15 16:13:00 | 2.18 | -1.36 |\n| ITOS | 2024-10-18 17:45:13 | 9.77 | 2024-10-18 18:13:00 | 9.63 | -1.43 |\n| GWAV | 2024-10-21 16:08:36 | 0.49 | 2024-10-21 16:09:00 | 0.48 | -1.45 |\n| GSIW | 2024-10-11 18:47:40 | 1.85 | 2024-10-11 18:48:00 | 1.82 | -1.56 |\n| BTOC | 2024-10-23 15:33:03 | 8.56 | 2024-10-23 15:34:00 | 8.38 | -2.16 |\n| ATAI | 2024-10-18 18:32:19 | 1.36 | 2024-10-18 18:36:00 | 1.33 | -2.21 |\n| BLUE | 2024-10-09 16:43:34 | 0.53 | 2024-10-09 17:58:00 | 0.52 | -2.42 |\n| SIFY | 2024-10-22 16:19:54 | 4.41 | 2024-10-22 16:20:00 | 4.28 | -2.95 |\n"
          },
          "metadata": {}
        }
      ]
    },
    {
      "cell_type": "code",
      "source": [
        "# Crear la tabla Markdown con el título\n",
        "markdown_table = \"# **Top 20 Tickers por Ganancia Total Acumulada**\\n\\n\"  # Título en Markdown\n",
        "markdown_table += \"|    **Ticker**     |    **Ganancia Total (%)**     |\\n\"\n",
        "markdown_table += \"|-------------------|-------------------------------|\\n\"\n",
        "\n",
        "# Obtener los top 30 tickers por ganancia total acumulada\n",
        "top_tickers = results_df.groupby('ticker')['pnl_percent'].sum().sort_values(ascending=False).head(300)\n",
        "top_tickers = top_tickers.round(2)\n",
        "\n",
        "# Añadir las filas de la tabla\n",
        "for ticker, pnl in top_tickers.items():\n",
        "    markdown_table += f\"| {ticker} | {pnl} |\\n\"\n",
        "\n",
        "\n",
        "# Mostrar la tabla en formato Markdown\n",
        "display(Markdown(markdown_table))\n"
      ],
      "metadata": {
        "id": "nmBOt_cVEqDt",
        "colab": {
          "base_uri": "https://localhost:8080/",
          "height": 1000
        },
        "outputId": "b649c6ba-f804-4908-9d3e-3131a021c31c"
      },
      "execution_count": null,
      "outputs": [
        {
          "output_type": "display_data",
          "data": {
            "text/plain": [
              "<IPython.core.display.Markdown object>"
            ],
            "text/markdown": "# **Top 20 Tickers por Ganancia Total Acumulada**\n\n|    **Ticker**     |    **Ganancia Total (%)**     |\n|-------------------|-------------------------------|\n| GLXG | 59.67 |\n| NNE | 37.89 |\n| LTBR | 36.55 |\n| OKLO | 31.78 |\n| IGMS | 25.43 |\n| TGI | 23.3 |\n| PDYN | 23.23 |\n| BAER | 21.7 |\n| FTEL | 17.92 |\n| SABS | 17.65 |\n| ASPI | 16.4 |\n| QMMM | 14.61 |\n| MULN | 14.14 |\n| HOWL | 13.08 |\n| WCT | 12.38 |\n| TCS | 11.46 |\n| DTSS | 11.34 |\n| VERI | 9.77 |\n| TNYA | 8.19 |\n| CLPT | 6.93 |\n| EXEL | 6.72 |\n| WW | 6.15 |\n| GDS | 6.15 |\n| MYTE | 6.11 |\n| QUBT | 5.95 |\n| MPW | 5.9 |\n| TVGN | 5.79 |\n| SGMO | 5.23 |\n| PYXS | 5.18 |\n| RAIL | 4.42 |\n| PHUN | 3.4 |\n| ZBIO | 3.16 |\n| AHCO | 2.95 |\n| ORKT | 2.88 |\n| FFIE | 2.82 |\n| ILLR | 2.74 |\n| STKL | 1.85 |\n| RR | 1.82 |\n| DNTH | 1.62 |\n| BITF | 1.33 |\n| AMLX | 1.03 |\n| ALAR | 0.81 |\n| JSPR | 0.77 |\n| NCLH | 0.63 |\n| KSCP | 0.51 |\n| SLQT | 0.36 |\n| WHLR | 0.25 |\n| MAX | 0.03 |\n| PSQH | 0.0 |\n| GWAV | -0.04 |\n| CRDF | -0.16 |\n| HOLO | -0.76 |\n| QBTS | -0.78 |\n| RDWR | -0.97 |\n| SLI | -1.36 |\n| ITOS | -1.43 |\n| GSIW | -1.56 |\n| BTOC | -2.16 |\n| ATAI | -2.21 |\n| BLUE | -2.42 |\n| SIFY | -2.95 |\n"
          },
          "metadata": {}
        }
      ]
    },
    {
      "cell_type": "code",
      "source": [
        "# Crear una lista de colores basada en los valores\n",
        "colors = ['green' if x > 0 else 'red' for x in top_tickers.head(150)]\n",
        "# Graficar las barras con colores condicionales\n",
        "top_tickers.head(150).plot(kind='bar', color=colors, figsize=(20, 8), edgecolor='k')\n",
        "plt.title('Tickers con Mayor Ganancia Total')\n",
        "plt.xlabel('Ticker')\n",
        "plt.ylabel('Ganancia Total')\n",
        "plt.show()"
      ],
      "metadata": {
        "id": "hlphIHY2EzWF",
        "colab": {
          "base_uri": "https://localhost:8080/",
          "height": 547
        },
        "outputId": "8a3c7bc2-7736-462c-ff66-cf83e66811c9"
      },
      "execution_count": null,
      "outputs": [
        {
          "output_type": "display_data",
          "data": {
            "text/plain": [
              "<Figure size 2000x800 with 1 Axes>"
            ],
            "image/png": "[encoded data removed]"
          },
          "metadata": {}
        }
      ]
    },
    {
      "cell_type": "code",
      "source": [
        "# Agrupando los datos para generar un resumen detallado por Ticker\n",
        "detailed_summary = results_df.groupby('ticker').agg({\n",
        "    'alert_date': 'first',  # Fecha de la primera operación por ticker\n",
        "    'exit_time': 'last',    # Fecha de la última operación por ticker\n",
        "    'entry_price': 'mean',  # Promedio de precios de entrada\n",
        "    'exit_price': 'mean',   # Promedio de precios de salida\n",
        "    'pnl_percent': 'sum'    # Rentabilidad total por ticker\n",
        "}).sort_values(by='pnl_percent', ascending=False)\n",
        "\n",
        "# Restablecer el índice para que 'ticker' sea una columna normal\n",
        "detailed_summary = detailed_summary.reset_index()\n",
        "\n",
        "# Mostrar el resumen detallado en formato de tabla\n",
        "detailed_summary.head(90)  # Muestra las primeras 90 filas del resumen detallado"
      ],
      "metadata": {
        "id": "qIJpAfpyJhTJ",
        "colab": {
          "base_uri": "https://localhost:8080/",
          "height": 419
        },
        "outputId": "45610c7d-5045-4bfa-ce2a-aa454b11ca3b"
      },
      "execution_count": null,
      "outputs": [
        {
          "output_type": "execute_result",
          "data": {
            "text/plain": [
              "   ticker          alert_date            exit_time  entry_price  exit_price  \\\n",
              "0    GLXG 2024-10-10 16:44:34  2024-10-18 15:55:00    10.100733   11.823333   \n",
              "1     NNE 2024-10-18 15:33:46  2024-10-21 21:50:00    21.180000   25.250000   \n",
              "2    LTBR 2024-10-16 18:12:46  2024-10-18 21:43:00     5.490000    6.430000   \n",
              "3    OKLO 2024-10-10 15:30:12  2024-10-18 16:45:00    12.820000   15.245000   \n",
              "4    IGMS 2024-10-22 15:30:20  2024-10-22 15:56:00    15.785800   19.800000   \n",
              "..    ...                 ...                  ...          ...         ...   \n",
              "56   GSIW 2024-10-11 18:47:40  2024-10-11 18:48:00     1.848900    1.820000   \n",
              "57   BTOC 2024-10-23 15:33:03  2024-10-23 15:34:00     8.565000    8.380000   \n",
              "58   ATAI 2024-10-18 18:32:19  2024-10-18 18:36:00     1.360000    1.330000   \n",
              "59   BLUE 2024-10-09 16:43:34  2024-10-09 17:58:00     0.530000    0.517200   \n",
              "60   SIFY 2024-10-22 16:19:54  2024-10-22 16:20:00     4.410000    4.280000   \n",
              "\n",
              "    pnl_percent  \n",
              "0     59.671213  \n",
              "1     37.887807  \n",
              "2     36.549383  \n",
              "3     31.782680  \n",
              "4     25.429183  \n",
              "..          ...  \n",
              "56    -1.563092  \n",
              "57    -2.159953  \n",
              "58    -2.205882  \n",
              "59    -2.415094  \n",
              "60    -2.947846  \n",
              "\n",
              "[61 rows x 6 columns]"
            ],
            "text/html": [
              "\n",
              "  <div id=\"df-e3fecdf4-e984-4439-98e5-12b0f69511e7\" class=\"colab-df-container\">\n",
              "    <div>\n",
              "<style scoped>\n",
              "    .dataframe tbody tr th:only-of-type {\n",
              "        vertical-align: middle;\n",
              "    }\n",
              "\n",
              "    .dataframe tbody tr th {\n",
              "        vertical-align: top;\n",
              "    }\n",
              "\n",
              "    .dataframe thead th {\n",
              "        text-align: right;\n",
              "    }\n",
              "</style>\n",
              "<table border=\"1\" class=\"dataframe\">\n",
              "  <thead>\n",
              "    <tr style=\"text-align: right;\">\n",
              "      <th></th>\n",
              "      <th>ticker</th>\n",
              "      <th>alert_date</th>\n",
              "      <th>exit_time</th>\n",
              "      <th>entry_price</th>\n",
              "      <th>exit_price</th>\n",
              "      <th>pnl_percent</th>\n",
              "    </tr>\n",
              "  </thead>\n",
              "  <tbody>\n",
              "    <tr>\n",
              "      <th>0</th>\n",
              "      <td>GLXG</td>\n",
              "      <td>2024-10-10 16:44:34</td>\n",
              "      <td>2024-10-18 15:55:00</td>\n",
              "      <td>10.100733</td>\n",
              "      <td>11.823333</td>\n",
              "      <td>59.671213</td>\n",
              "    </tr>\n",
              "    <tr>\n",
              "      <th>1</th>\n",
              "      <td>NNE</td>\n",
              "      <td>2024-10-18 15:33:46</td>\n",
              "      <td>2024-10-21 21:50:00</td>\n",
              "      <td>21.180000</td>\n",
              "      <td>25.250000</td>\n",
              "      <td>37.887807</td>\n",
              "    </tr>\n",
              "    <tr>\n",
              "      <th>2</th>\n",
              "      <td>LTBR</td>\n",
              "      <td>2024-10-16 18:12:46</td>\n",
              "      <td>2024-10-18 21:43:00</td>\n",
              "      <td>5.490000</td>\n",
              "      <td>6.430000</td>\n",
              "      <td>36.549383</td>\n",
              "    </tr>\n",
              "    <tr>\n",
              "      <th>3</th>\n",
              "      <td>OKLO</td>\n",
              "      <td>2024-10-10 15:30:12</td>\n",
              "      <td>2024-10-18 16:45:00</td>\n",
              "      <td>12.820000</td>\n",
              "      <td>15.245000</td>\n",
              "      <td>31.782680</td>\n",
              "    </tr>\n",
              "    <tr>\n",
              "      <th>4</th>\n",
              "      <td>IGMS</td>\n",
              "      <td>2024-10-22 15:30:20</td>\n",
              "      <td>2024-10-22 15:56:00</td>\n",
              "      <td>15.785800</td>\n",
              "      <td>19.800000</td>\n",
              "      <td>25.429183</td>\n",
              "    </tr>\n",
              "    <tr>\n",
              "      <th>...</th>\n",
              "      <td>...</td>\n",
              "      <td>...</td>\n",
              "      <td>...</td>\n",
              "      <td>...</td>\n",
              "      <td>...</td>\n",
              "      <td>...</td>\n",
              "    </tr>\n",
              "    <tr>\n",
              "      <th>56</th>\n",
              "      <td>GSIW</td>\n",
              "      <td>2024-10-11 18:47:40</td>\n",
              "      <td>2024-10-11 18:48:00</td>\n",
              "      <td>1.848900</td>\n",
              "      <td>1.820000</td>\n",
              "      <td>-1.563092</td>\n",
              "    </tr>\n",
              "    <tr>\n",
              "      <th>57</th>\n",
              "      <td>BTOC</td>\n",
              "      <td>2024-10-23 15:33:03</td>\n",
              "      <td>2024-10-23 15:34:00</td>\n",
              "      <td>8.565000</td>\n",
              "      <td>8.380000</td>\n",
              "      <td>-2.159953</td>\n",
              "    </tr>\n",
              "    <tr>\n",
              "      <th>58</th>\n",
              "      <td>ATAI</td>\n",
              "      <td>2024-10-18 18:32:19</td>\n",
              "      <td>2024-10-18 18:36:00</td>\n",
              "      <td>1.360000</td>\n",
              "      <td>1.330000</td>\n",
              "      <td>-2.205882</td>\n",
              "    </tr>\n",
              "    <tr>\n",
              "      <th>59</th>\n",
              "      <td>BLUE</td>\n",
              "      <td>2024-10-09 16:43:34</td>\n",
              "      <td>2024-10-09 17:58:00</td>\n",
              "      <td>0.530000</td>\n",
              "      <td>0.517200</td>\n",
              "      <td>-2.415094</td>\n",
              "    </tr>\n",
              "    <tr>\n",
              "      <th>60</th>\n",
              "      <td>SIFY</td>\n",
              "      <td>2024-10-22 16:19:54</td>\n",
              "      <td>2024-10-22 16:20:00</td>\n",
              "      <td>4.410000</td>\n",
              "      <td>4.280000</td>\n",
              "      <td>-2.947846</td>\n",
              "    </tr>\n",
              "  </tbody>\n",
              "</table>\n",
              "<p>61 rows × 6 columns</p>\n",
              "</div>\n",
              "    <div class=\"colab-df-buttons\">\n",
              "\n",
              "  <div class=\"colab-df-container\">\n",
              "    <button class=\"colab-df-convert\" onclick=\"convertToInteractive('df-e3fecdf4-e984-4439-98e5-12b0f69511e7')\"\n",
              "            title=\"Convert this dataframe to an interactive table.\"\n",
              "            style=\"display:none;\">\n",
              "\n",
              "  <svg xmlns=\"http://www.w3.org/2000/svg\" height=\"24px\" viewBox=\"0 -960 960 960\">\n",
              "    <path d=\"M120-120v-720h720v720H120Zm60-500h600v-160H180v160Zm220 220h160v-160H400v160Zm0 220h160v-160H400v160ZM180-400h160v-160H180v160Zm440 0h160v-160H620v160ZM180-180h160v-160H180v160Zm440 0h160v-160H620v160Z\"/>\n",
              "  </svg>\n",
              "    </button>\n",
              "\n",
              "  <style>\n",
              "    .colab-df-container {\n",
              "      display:flex;\n",
              "      gap: 12px;\n",
              "    }\n",
              "\n",
              "    .colab-df-convert {\n",
              "      background-color: #E8F0FE;\n",
              "      border: none;\n",
              "      border-radius: 50%;\n",
              "      cursor: pointer;\n",
              "      display: none;\n",
              "      fill: #1967D2;\n",
              "      height: 32px;\n",
              "      padding: 0 0 0 0;\n",
              "      width: 32px;\n",
              "    }\n",
              "\n",
              "    .colab-df-convert:hover {\n",
              "      background-color: #E2EBFA;\n",
              "      box-shadow: 0px 1px 2px rgba(60, 64, 67, 0.3), 0px 1px 3px 1px rgba(60, 64, 67, 0.15);\n",
              "      fill: #174EA6;\n",
              "    }\n",
              "\n",
              "    .colab-df-buttons div {\n",
              "      margin-bottom: 4px;\n",
              "    }\n",
              "\n",
              "    [theme=dark] .colab-df-convert {\n",
              "      background-color: #3B4455;\n",
              "      fill: #D2E3FC;\n",
              "    }\n",
              "\n",
              "    [theme=dark] .colab-df-convert:hover {\n",
              "      background-color: #434B5C;\n",
              "      box-shadow: 0px 1px 3px 1px rgba(0, 0, 0, 0.15);\n",
              "      filter: drop-shadow(0px 1px 2px rgba(0, 0, 0, 0.3));\n",
              "      fill: #FFFFFF;\n",
              "    }\n",
              "  </style>\n",
              "\n",
              "    <script>\n",
              "      const buttonEl =\n",
              "        document.querySelector('#df-e3fecdf4-e984-4439-98e5-12b0f69511e7 button.colab-df-convert');\n",
              "      buttonEl.style.display =\n",
              "        google.colab.kernel.accessAllowed ? 'block' : 'none';\n",
              "\n",
              "      async function convertToInteractive(key) {\n",
              "        const element = document.querySelector('#df-e3fecdf4-e984-4439-98e5-12b0f69511e7');\n",
              "        const dataTable =\n",
              "          await google.colab.kernel.invokeFunction('convertToInteractive',\n",
              "                                                    [key], {});\n",
              "        if (!dataTable) return;\n",
              "\n",
              "        const docLinkHtml = 'Like what you see? Visit the ' +\n",
              "          '<a target=\"_blank\" href=https://colab.research.google.com/notebooks/data_table.ipynb>data table notebook</a>'\n",
              "          + ' to learn more about interactive tables.';\n",
              "        element.innerHTML = '';\n",
              "        dataTable['output_type'] = 'display_data';\n",
              "        await google.colab.output.renderOutput(dataTable, element);\n",
              "        const docLink = document.createElement('div');\n",
              "        docLink.innerHTML = docLinkHtml;\n",
              "        element.appendChild(docLink);\n",
              "      }\n",
              "    </script>\n",
              "  </div>\n",
              "\n",
              "\n",
              "<div id=\"df-0f625ec2-7db5-4973-8321-3e64a14f06be\">\n",
              "  <button class=\"colab-df-quickchart\" onclick=\"quickchart('df-0f625ec2-7db5-4973-8321-3e64a14f06be')\"\n",
              "            title=\"Suggest charts\"\n",
              "            style=\"display:none;\">\n",
              "\n",
              "<svg xmlns=\"http://www.w3.org/2000/svg\" height=\"24px\"viewBox=\"0 0 24 24\"\n",
              "     width=\"24px\">\n",
              "    <g>\n",
              "        <path d=\"M19 3H5c-1.1 0-2 .9-2 2v14c0 1.1.9 2 2 2h14c1.1 0 2-.9 2-2V5c0-1.1-.9-2-2-2zM9 17H7v-7h2v7zm4 0h-2V7h2v10zm4 0h-2v-4h2v4z\"/>\n",
              "    </g>\n",
              "</svg>\n",
              "  </button>\n",
              "\n",
              "<style>\n",
              "  .colab-df-quickchart {\n",
              "      --bg-color: #E8F0FE;\n",
              "      --fill-color: #1967D2;\n",
              "      --hover-bg-color: #E2EBFA;\n",
              "      --hover-fill-color: #174EA6;\n",
              "      --disabled-fill-color: #AAA;\n",
              "      --disabled-bg-color: #DDD;\n",
              "  }\n",
              "\n",
              "  [theme=dark] .colab-df-quickchart {\n",
              "      --bg-color: #3B4455;\n",
              "      --fill-color: #D2E3FC;\n",
              "      --hover-bg-color: #434B5C;\n",
              "      --hover-fill-color: #FFFFFF;\n",
              "      --disabled-bg-color: #3B4455;\n",
              "      --disabled-fill-color: #666;\n",
              "  }\n",
              "\n",
              "  .colab-df-quickchart {\n",
              "    background-color: var(--bg-color);\n",
              "    border: none;\n",
              "    border-radius: 50%;\n",
              "    cursor: pointer;\n",
              "    display: none;\n",
              "    fill: var(--fill-color);\n",
              "    height: 32px;\n",
              "    padding: 0;\n",
              "    width: 32px;\n",
              "  }\n",
              "\n",
              "  .colab-df-quickchart:hover {\n",
              "    background-color: var(--hover-bg-color);\n",
              "    box-shadow: 0 1px 2px rgba(60, 64, 67, 0.3), 0 1px 3px 1px rgba(60, 64, 67, 0.15);\n",
              "    fill: var(--button-hover-fill-color);\n",
              "  }\n",
              "\n",
              "  .colab-df-quickchart-complete:disabled,\n",
              "  .colab-df-quickchart-complete:disabled:hover {\n",
              "    background-color: var(--disabled-bg-color);\n",
              "    fill: var(--disabled-fill-color);\n",
              "    box-shadow: none;\n",
              "  }\n",
              "\n",
              "  .colab-df-spinner {\n",
              "    border: 2px solid var(--fill-color);\n",
              "    border-color: transparent;\n",
              "    border-bottom-color: var(--fill-color);\n",
              "    animation:\n",
              "      spin 1s steps(1) infinite;\n",
              "  }\n",
              "\n",
              "  @keyframes spin {\n",
              "    0% {\n",
              "      border-color: transparent;\n",
              "      border-bottom-color: var(--fill-color);\n",
              "      border-left-color: var(--fill-color);\n",
              "    }\n",
              "    20% {\n",
              "      border-color: transparent;\n",
              "      border-left-color: var(--fill-color);\n",
              "      border-top-color: var(--fill-color);\n",
              "    }\n",
              "    30% {\n",
              "      border-color: transparent;\n",
              "      border-left-color: var(--fill-color);\n",
              "      border-top-color: var(--fill-color);\n",
              "      border-right-color: var(--fill-color);\n",
              "    }\n",
              "    40% {\n",
              "      border-color: transparent;\n",
              "      border-right-color: var(--fill-color);\n",
              "      border-top-color: var(--fill-color);\n",
              "    }\n",
              "    60% {\n",
              "      border-color: transparent;\n",
              "      border-right-color: var(--fill-color);\n",
              "    }\n",
              "    80% {\n",
              "      border-color: transparent;\n",
              "      border-right-color: var(--fill-color);\n",
              "      border-bottom-color: var(--fill-color);\n",
              "    }\n",
              "    90% {\n",
              "      border-color: transparent;\n",
              "      border-bottom-color: var(--fill-color);\n",
              "    }\n",
              "  }\n",
              "</style>\n",
              "\n",
              "  <script>\n",
              "    async function quickchart(key) {\n",
              "      const quickchartButtonEl =\n",
              "        document.querySelector('#' + key + ' button');\n",
              "      quickchartButtonEl.disabled = true;  // To prevent multiple clicks.\n",
              "      quickchartButtonEl.classList.add('colab-df-spinner');\n",
              "      try {\n",
              "        const charts = await google.colab.kernel.invokeFunction(\n",
              "            'suggestCharts', [key], {});\n",
              "      } catch (error) {\n",
              "        console.error('Error during call to suggestCharts:', error);\n",
              "      }\n",
              "      quickchartButtonEl.classList.remove('colab-df-spinner');\n",
              "      quickchartButtonEl.classList.add('colab-df-quickchart-complete');\n",
              "    }\n",
              "    (() => {\n",
              "      let quickchartButtonEl =\n",
              "        document.querySelector('#df-0f625ec2-7db5-4973-8321-3e64a14f06be button');\n",
              "      quickchartButtonEl.style.display =\n",
              "        google.colab.kernel.accessAllowed ? 'block' : 'none';\n",
              "    })();\n",
              "  </script>\n",
              "</div>\n",
              "\n",
              "    </div>\n",
              "  </div>\n"
            ],
            "application/vnd.google.colaboratory.intrinsic+json": {
              "type": "dataframe",
              "variable_name": "detailed_summary",
              "summary": "{\n  \"name\": \"detailed_summary\",\n  \"rows\": 61,\n  \"fields\": [\n    {\n      \"column\": \"ticker\",\n      \"properties\": {\n        \"dtype\": \"string\",\n        \"num_unique_values\": 61,\n        \"samples\": [\n          \"GLXG\",\n          \"TGI\",\n          \"WHLR\"\n        ],\n        \"semantic_type\": \"\",\n        \"description\": \"\"\n      }\n    },\n    {\n      \"column\": \"alert_date\",\n      \"properties\": {\n        \"dtype\": \"date\",\n        \"min\": \"2024-10-08 15:40:57\",\n        \"max\": \"2024-10-23 18:39:57\",\n        \"num_unique_values\": 61,\n        \"samples\": [\n          \"2024-10-10 16:44:34\",\n          \"2024-10-10 21:26:32\",\n          \"2024-10-21 21:22:46\"\n        ],\n        \"semantic_type\": \"\",\n        \"description\": \"\"\n      }\n    },\n    {\n      \"column\": \"exit_time\",\n      \"properties\": {\n        \"dtype\": \"object\",\n        \"num_unique_values\": 59,\n        \"samples\": [\n          \"2024-10-18 15:55:00\",\n          \"2024-10-10 21:51:00\",\n          \"2024-10-09 16:19:00\"\n        ],\n        \"semantic_type\": \"\",\n        \"description\": \"\"\n      }\n    },\n    {\n      \"column\": \"entry_price\",\n      \"properties\": {\n        \"dtype\": \"number\",\n        \"std\": 8.059000135004114,\n        \"min\": 0.46809999999999996,\n        \"max\": 28.975,\n        \"num_unique_values\": 61,\n        \"samples\": [\n          10.100733333333332,\n          11.93,\n          11.88\n        ],\n        \"semantic_type\": \"\",\n        \"description\": \"\"\n      }\n    },\n    {\n      \"column\": \"exit_price\",\n      \"properties\": {\n        \"dtype\": \"number\",\n        \"std\": 8.559249249660946,\n        \"min\": 0.4677,\n        \"max\": 29.445,\n        \"num_unique_values\": 61,\n        \"samples\": [\n          11.823333333333332,\n          14.71,\n          11.91\n        ],\n        \"semantic_type\": \"\",\n        \"description\": \"\"\n      }\n    },\n    {\n      \"column\": \"pnl_percent\",\n      \"properties\": {\n        \"dtype\": \"number\",\n        \"std\": 11.73381034643924,\n        \"min\": -2.94784580498866,\n        \"max\": 59.67121306587747,\n        \"num_unique_values\": 61,\n        \"samples\": [\n          59.67121306587747,\n          23.30259849119867,\n          0.2525252525252471\n        ],\n        \"semantic_type\": \"\",\n        \"description\": \"\"\n      }\n    }\n  ]\n}"
            }
          },
          "metadata": {},
          "execution_count": 25
        }
      ]
    },
    {
      "cell_type": "code",
      "source": [
        "# Obtención de las mejores operaciones\n",
        "top_winners = results_df[results_df['pnl_percent'] > 0].sort_values(by='pnl_percent', ascending=False).head(5)\n",
        "\n",
        "# Ganancia acumulada por ticker (ya calculado en top_tickers)\n",
        "top_tickers = results_df.groupby('ticker')['pnl_percent'].sum().sort_values(ascending=False)\n",
        "\n",
        "# Formatear las tablas para mostrar en Markdown\n",
        "top_winners_str = \"\\n\".join([f\"- **{row['ticker']}**: {row['pnl_percent']:.2f} (Entrada: {row['entry_price']}, Salida: {row['exit_price']})\"\n",
        "                             for _, row in top_winners.iterrows()])\n",
        "\n",
        "top_tickers_str = \"\\n\".join([f\"| **{ticker}** | {gain:.2f} |\" for ticker, gain in top_tickers.items()]) #for ticker, gain in top_tickers.head(10).items()])\n",
        "\n",
        "# Generar el texto de la interpretación en Markdown\n",
        "markdown_text = f\"\"\"\n",
        "# Interpretación de los Resultados\n",
        "\n",
        "### 1. Tabla de operaciones ganadoras\n",
        "\n",
        "La tabla **Top Winning Trades** muestra que las operaciones más rentables son las siguientes:\n",
        "{top_winners_str}\n",
        "\n",
        "Esto indica que el ticker **{top_winners.iloc[0]['ticker']}** fue el activo que mejor se desempeñó con la estrategia, generando consistentemente las mayores ganancias.\n",
        "\n",
        "### 2. Ganancias acumuladas por ticker (Top Tickers)\n",
        "\n",
        "Cuando agrupamos las ganancias por ticker, obtenemos el siguiente resumen de ganancias totales:\n",
        "\n",
        "| Ticker | Ganancia Total (pnl) |\n",
        "|--------|----------------------|\n",
        "{top_tickers_str}\n",
        "\n",
        "El ticker **{top_tickers.index[0]}** lidera con una ganancia acumulada de {top_tickers.iloc[0]:.2f}, lo que refuerza que este ticker fue el más exitoso con la estrategia.\n",
        "\n",
        "### 3. Gráfico de barras\n",
        "\n",
        "El gráfico de barras confirma visualmente que **{top_tickers.index[0]}** es el ticker más rentable con un rendimiento acumulado significativamente mayor. Los otros tickers contribuyen poco o negativamente al resultado global.\n",
        "\n",
        "---\n",
        "\n",
        "## Conclusión\n",
        "\n",
        "Los resultados presentados en la tabla muestran un análisis detallado de la ganancia total (`pnl`) por ticker, lo que permite evaluar la efectividad de la estrategia de trading algorítmico implementada. A partir de los datos, se pueden destacar los siguientes puntos clave:\n",
        "\n",
        "1. **Resultados Generales**:\n",
        "   - La mayoría de los tickers generaron ganancias positivas, lo cual indica que la estrategia tiene un potencial de rentabilidad.\n",
        "   - El ticker con mayor ganancia fue `VERB`, con un total de **150.93**, mientras que el peor desempeño lo tuvo `TURB` con una pérdida de **-18.00** debido a que han habido mas de un trade.\n",
        "\n",
        "2. **Distribución de Ganancias**:\n",
        "   - Un grupo significativo de tickers (alrededor del 20%) generó ganancias superiores a **10.00**, lo cual es alentador para el rendimiento general.\n",
        "   - Sin embargo, también se observa un grupo considerable de tickers con pérdidas, algunas de ellas severas (pérdidas mayores a **-9.00**).\n",
        "\n",
        "3. **Riesgos y Consistencia**:\n",
        "   - Aunque la estrategia es positiva en general, la presencia de resultados negativos extremos sugiere que existen áreas de mejora en el manejo del riesgo y la selección de activos.\n",
        "   - Los tickers con pérdidas recurrentes deben ser analizados más profundamente para identificar patrones que puedan indicar condiciones desfavorables para la estrategia.\n",
        "\n",
        "4. **Evaluación General**:\n",
        "   - La estrategia tiene un desempeño global positivo, pero su rentabilidad podría incrementarse ajustando los criterios de selección de activos y afinando el algoritmo para reducir el impacto de pérdidas significativas.\n",
        "   - Es recomendable realizar análisis adicionales como métricas de riesgo-retorno (por ejemplo, Sharpe Ratio) para evaluar de manera más integral la efectividad del sistema.\n",
        "\n",
        "\"\"\"\n",
        "\n",
        "# Mostrar el texto generado en Markdown\n",
        "display(Markdown(markdown_text))"
      ],
      "metadata": {
        "id": "QxCcJKy5jWhI",
        "colab": {
          "base_uri": "https://localhost:8080/",
          "height": 1000
        },
        "outputId": "1585c37c-3a57-4ac9-868d-1682e6165385"
      },
      "execution_count": null,
      "outputs": [
        {
          "output_type": "display_data",
          "data": {
            "text/plain": [
              "<IPython.core.display.Markdown object>"
            ],
            "text/markdown": "\n# Interpretación de los Resultados\n\n### 1. Tabla de operaciones ganadoras\n\nLa tabla **Top Winning Trades** muestra que las operaciones más rentables son las siguientes:\n- **GLXG**: 60.28 (Entrada: 8.66, Salida: 13.88)\n- **OKLO**: 27.33 (Entrada: 16.21, Salida: 20.64)\n- **NNE**: 26.29 (Entrada: 21.965, Salida: 27.74)\n- **IGMS**: 25.43 (Entrada: 15.7858, Salida: 19.8)\n- **LTBR**: 24.67 (Entrada: 4.5, Salida: 5.61)\n\nEsto indica que el ticker **GLXG** fue el activo que mejor se desempeñó con la estrategia, generando consistentemente las mayores ganancias.\n\n### 2. Ganancias acumuladas por ticker (Top Tickers)\n\nCuando agrupamos las ganancias por ticker, obtenemos el siguiente resumen de ganancias totales:\n\n| Ticker | Ganancia Total (pnl) |\n|--------|----------------------|\n| **GLXG** | 59.67 |\n| **NNE** | 37.89 |\n| **LTBR** | 36.55 |\n| **OKLO** | 31.78 |\n| **IGMS** | 25.43 |\n| **TGI** | 23.30 |\n| **PDYN** | 23.23 |\n| **BAER** | 21.70 |\n| **FTEL** | 17.92 |\n| **SABS** | 17.65 |\n| **ASPI** | 16.40 |\n| **QMMM** | 14.61 |\n| **MULN** | 14.14 |\n| **HOWL** | 13.08 |\n| **WCT** | 12.38 |\n| **TCS** | 11.46 |\n| **DTSS** | 11.34 |\n| **VERI** | 9.77 |\n| **TNYA** | 8.19 |\n| **CLPT** | 6.93 |\n| **EXEL** | 6.72 |\n| **WW** | 6.15 |\n| **GDS** | 6.15 |\n| **MYTE** | 6.11 |\n| **QUBT** | 5.95 |\n| **MPW** | 5.90 |\n| **TVGN** | 5.79 |\n| **SGMO** | 5.23 |\n| **PYXS** | 5.18 |\n| **RAIL** | 4.42 |\n| **PHUN** | 3.40 |\n| **ZBIO** | 3.16 |\n| **AHCO** | 2.95 |\n| **ORKT** | 2.88 |\n| **FFIE** | 2.82 |\n| **ILLR** | 2.74 |\n| **STKL** | 1.85 |\n| **RR** | 1.82 |\n| **DNTH** | 1.62 |\n| **BITF** | 1.33 |\n| **AMLX** | 1.03 |\n| **ALAR** | 0.81 |\n| **JSPR** | 0.77 |\n| **NCLH** | 0.63 |\n| **KSCP** | 0.51 |\n| **SLQT** | 0.36 |\n| **WHLR** | 0.25 |\n| **MAX** | 0.03 |\n| **PSQH** | 0.00 |\n| **GWAV** | -0.04 |\n| **CRDF** | -0.16 |\n| **HOLO** | -0.76 |\n| **QBTS** | -0.78 |\n| **RDWR** | -0.97 |\n| **SLI** | -1.36 |\n| **ITOS** | -1.43 |\n| **GSIW** | -1.56 |\n| **BTOC** | -2.16 |\n| **ATAI** | -2.21 |\n| **BLUE** | -2.42 |\n| **SIFY** | -2.95 |\n\nEl ticker **GLXG** lidera con una ganancia acumulada de 59.67, lo que refuerza que este ticker fue el más exitoso con la estrategia.\n\n### 3. Gráfico de barras\n\nEl gráfico de barras confirma visualmente que **GLXG** es el ticker más rentable con un rendimiento acumulado significativamente mayor. Los otros tickers contribuyen poco o negativamente al resultado global.\n\n---\n\n## Conclusión\n\nLos resultados presentados en la tabla muestran un análisis detallado de la ganancia total (`pnl`) por ticker, lo que permite evaluar la efectividad de la estrategia de trading algorítmico implementada. A partir de los datos, se pueden destacar los siguientes puntos clave:\n\n1. **Resultados Generales**:\n   - La mayoría de los tickers generaron ganancias positivas, lo cual indica que la estrategia tiene un potencial de rentabilidad.\n   - El ticker con mayor ganancia fue `VERB`, con un total de **150.93**, mientras que el peor desempeño lo tuvo `TURB` con una pérdida de **-18.00** debido a que han habido mas de un trade.\n\n2. **Distribución de Ganancias**:\n   - Un grupo significativo de tickers (alrededor del 20%) generó ganancias superiores a **10.00**, lo cual es alentador para el rendimiento general.\n   - Sin embargo, también se observa un grupo considerable de tickers con pérdidas, algunas de ellas severas (pérdidas mayores a **-9.00**).\n\n3. **Riesgos y Consistencia**:\n   - Aunque la estrategia es positiva en general, la presencia de resultados negativos extremos sugiere que existen áreas de mejora en el manejo del riesgo y la selección de activos.\n   - Los tickers con pérdidas recurrentes deben ser analizados más profundamente para identificar patrones que puedan indicar condiciones desfavorables para la estrategia.\n\n4. **Evaluación General**:\n   - La estrategia tiene un desempeño global positivo, pero su rentabilidad podría incrementarse ajustando los criterios de selección de activos y afinando el algoritmo para reducir el impacto de pérdidas significativas.\n   - Es recomendable realizar análisis adicionales como métricas de riesgo-retorno (por ejemplo, Sharpe Ratio) para evaluar de manera más integral la efectividad del sistema.\n\n"
          },
          "metadata": {}
        }
      ]
    }
  ],
  "metadata": {
    "anaconda-cloud": {},
    "kernelspec": {
      "display_name": "Python [conda env:mypython3]",
      "language": "python",
      "name": "conda-env-mypython3-py"
    },
    "language_info": {
      "codemirror_mode": {
        "name": "ipython",
        "version": 3
      },
      "file_extension": ".py",
      "mimetype": "text/x-python",
      "name": "python",
      "nbconvert_exporter": "python",
      "pygments_lexer": "ipython3",
      "version": "3.6.3"
    },
    "colab": {
      "provenance": [],
      "include_colab_link": true
    }
  },
  "nbformat": 4,
  "nbformat_minor": 0
}